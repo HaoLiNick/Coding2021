{
 "cells": [
  {
   "cell_type": "code",
   "execution_count": 1,
   "metadata": {},
   "outputs": [],
   "source": [
    "# Global Maximum\n"
   ]
  },
  {
   "cell_type": "code",
   "execution_count": null,
   "metadata": {},
   "outputs": [
    {
     "ename": "NameError",
     "evalue": "name 'solve' is not defined",
     "output_type": "error",
     "traceback": [
      "\u001b[1;31m---------------------------------------------------------------------------\u001b[0m",
      "\u001b[1;31mNameError\u001b[0m                                 Traceback (most recent call last)",
      "\u001b[1;32m<ipython-input-2-1012db6c2fe9>\u001b[0m in \u001b[0;36m<module>\u001b[1;34m\u001b[0m\n\u001b[0;32m     26\u001b[0m     \u001b[1;32mreturn\u001b[0m \u001b[0mmax\u001b[0m\u001b[1;33m(\u001b[0m\u001b[0mdp\u001b[0m\u001b[1;33m)\u001b[0m\u001b[1;33m\u001b[0m\u001b[1;33m\u001b[0m\u001b[0m\n\u001b[0;32m     27\u001b[0m \u001b[1;33m\u001b[0m\u001b[0m\n\u001b[1;32m---> 28\u001b[1;33m \u001b[0mprint\u001b[0m\u001b[1;33m(\u001b[0m\u001b[0msolve\u001b[0m\u001b[1;33m(\u001b[0m\u001b[1;33m[\u001b[0m\u001b[1;36m1\u001b[0m\u001b[1;33m,\u001b[0m \u001b[1;36m10\u001b[0m\u001b[1;33m,\u001b[0m \u001b[1;36m11\u001b[0m\u001b[1;33m]\u001b[0m\u001b[1;33m,\u001b[0m \u001b[1;33m[\u001b[0m\u001b[1;36m1\u001b[0m\u001b[1;33m,\u001b[0m \u001b[1;36m10\u001b[0m\u001b[1;33m,\u001b[0m \u001b[1;36m11\u001b[0m\u001b[1;33m]\u001b[0m\u001b[1;33m)\u001b[0m\u001b[1;33m)\u001b[0m \u001b[1;31m# 3\u001b[0m\u001b[1;33m\u001b[0m\u001b[1;33m\u001b[0m\u001b[0m\n\u001b[0m",
      "\u001b[1;31mNameError\u001b[0m: name 'solve' is not defined"
     ]
    }
   ],
   "source": [
    "# Meeting arrangement\n",
    "def solve_meeting_arrangement_greedy(start, end):\n",
    "    meetings = []\n",
    "    for i in range(len(start)):\n",
    "        meetings.append([start[i], end[i]])\n",
    "    meetings.sort(key=lambda x: x[1])\n",
    "    selected = [meetings[0]]\n",
    "    for i in range(1, len(meetings)):\n",
    "        meeting = meetings[i]\n",
    "        if meeting[0] > selected[-1][1]:\n",
    "            selected.append(meeting)\n",
    "    return len(selected)\n",
    "def solve_meeting_arrangement_dp(start, end):\n",
    "    overall_first_day = min(start)\n",
    "    start_days = collections.defaultdict(list)\n",
    "    for first_day, last_day in zip(start, end):\n",
    "        start_days[last_day - overall_first_day].append(first_day - overall_first_day)\n",
    "    dp = [0 for i in range(max(end) + 1 - overall_first_day)]\n",
    "    for i in range(len(dp)):\n",
    "        dp[i] = dp[i-1]\n",
    "        for start_day in start_days[i]:\n",
    "            if start_day == 0:\n",
    "                dp[i] = max(dp[i], 1)\n",
    "            else:\n",
    "                dp[i] = max(dp[i], dp[start_day-1] + 1)\n",
    "    return max(dp)\n",
    "\n",
    "print(solve([1, 10, 11], [1, 10, 11])) # 3"
   ]
  },
  {
   "cell_type": "code",
   "execution_count": null,
   "metadata": {},
   "outputs": [],
   "source": []
  }
 ],
 "metadata": {
  "kernelspec": {
   "display_name": "Python 3",
   "language": "python",
   "name": "python3"
  },
  "language_info": {
   "codemirror_mode": {
    "name": "ipython",
    "version": 3
   },
   "file_extension": ".py",
   "mimetype": "text/x-python",
   "name": "python",
   "nbconvert_exporter": "python",
   "pygments_lexer": "ipython3",
   "version": "3.7.4"
  }
 },
 "nbformat": 4,
 "nbformat_minor": 2
}
