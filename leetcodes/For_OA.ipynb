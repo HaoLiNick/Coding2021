{
 "cells": [
  {
   "cell_type": "code",
   "execution_count": 1,
   "metadata": {},
   "outputs": [],
   "source": [
    "# Global Maximum\n"
   ]
  },
  {
   "cell_type": "code",
   "execution_count": 3,
   "metadata": {},
   "outputs": [],
   "source": [
    "# Meeting arrangement\n",
    "def solve_meeting_arrangement_greedy(start, end):\n",
    "    meetings = []\n",
    "    for i in range(len(start)):\n",
    "        meetings.append([start[i], end[i]])\n",
    "    meetings.sort(key=lambda x: x[1])\n",
    "    selected = [meetings[0]]\n",
    "    for i in range(1, len(meetings)):\n",
    "        meeting = meetings[i]\n",
    "        if meeting[0] > selected[-1][1]:\n",
    "            selected.append(meeting)\n",
    "    return len(selected)\n",
    "def solve_meeting_arrangement_dp(start, end):\n",
    "    overall_first_day = min(start)\n",
    "    start_days = collections.defaultdict(list)\n",
    "    for first_day, last_day in zip(start, end):\n",
    "        start_days[last_day - overall_first_day].append(first_day - overall_first_day)\n",
    "    dp = [0 for i in range(max(end) + 1 - overall_first_day)]\n",
    "    for i in range(len(dp)):\n",
    "        dp[i] = dp[i-1]\n",
    "        for start_day in start_days[i]:\n",
    "            if start_day == 0:\n",
    "                dp[i] = max(dp[i], 1)\n",
    "            else:\n",
    "                dp[i] = max(dp[i], dp[start_day-1] + 1)\n",
    "    return max(dp)\n",
    "\n",
    "#print(solve([1, 10, 11], [1, 10, 11])) # 3"
   ]
  },
  {
   "cell_type": "code",
   "execution_count": 4,
   "metadata": {},
   "outputs": [],
   "source": [
    "# leetcode twosum II\n",
    "class Solution:\n",
    "    def twoSum(self, numbers, target):\n",
    "        \"\"\"\n",
    "        :type numbers: List[int]\n",
    "        :type target: int\n",
    "        :rtype: List[int]\n",
    "        \"\"\"\n",
    "        N = len(numbers)\n",
    "        left, right = 0, N - 1\n",
    "        while left < right:\n",
    "            cursum = numbers[left] + numbers[right]\n",
    "            if cursum == target:\n",
    "                return [left + 1, right + 1]\n",
    "            elif cursum < target:\n",
    "                left += 1\n",
    "            else:\n",
    "                right -= 1\n",
    "        return [0, 0]"
   ]
  },
  {
   "cell_type": "code",
   "execution_count": 11,
   "metadata": {},
   "outputs": [],
   "source": [
    "# Consecutive Sum\n",
    "def consecutiveNumbersSum(N):\n",
    "        from math import floor\n",
    "        count=0;\n",
    "        upper_limit=floor((2*N+1/4)**0.5-0.5)\n",
    "        for k in range(1,upper_limit+1):\n",
    "            if (N-k*(k+1)//2)%k==0:\n",
    "                count+=1\n",
    "        return count-1"
   ]
  },
  {
   "cell_type": "code",
   "execution_count": 12,
   "metadata": {},
   "outputs": [
    {
     "data": {
      "text/plain": [
       "2"
      ]
     },
     "execution_count": 12,
     "metadata": {},
     "output_type": "execute_result"
    }
   ],
   "source": [
    "consecutiveNumbersSum(9)"
   ]
  },
  {
   "cell_type": "markdown",
   "metadata": {},
   "source": [
    "Leetcode 121 best time to sell stock\n",
    "public class Solution {\n",
    "    public int maxProfit(int prices[]) {\n",
    "        int minprice = Integer.MAX_VALUE;\n",
    "        int maxprofit = 0;\n",
    "        for (int i = 0; i < prices.length; i++) {\n",
    "            if (prices[i] < minprice)\n",
    "                minprice = prices[i];\n",
    "            else if (prices[i] - minprice > maxprofit)\n",
    "                maxprofit = prices[i] - minprice;\n",
    "        }\n",
    "        return maxprofit;\n",
    "    }\n",
    "}"
   ]
  },
  {
   "cell_type": "code",
   "execution_count": 13,
   "metadata": {},
   "outputs": [
    {
     "name": "stdout",
     "output_type": "stream",
     "text": [
      "defaultdict(<class 'list'>, {5: [[1, 2, 5, 0]], 4: [[2, 1, 4, 2], [3, 5, 4, 6]]})\n",
      "[[1, 0, 5, 0], [2, 0, 4, 2], [3, 5, 4, 6]]\n",
      "[3]\n"
     ]
    }
   ],
   "source": [
    "# initial public offer\n",
    "# bids: userid, num of shares, bidding price, timestamp\n",
    "import collections\n",
    "def main_bidder(bids, totalShare):\n",
    "    origin = {}\n",
    "    price_to_bids = collections.defaultdict(list)\n",
    "    prices = []\n",
    "    for bid in bids:\n",
    "        origin[bid[0]] = bid[1] # uid-># of shares\n",
    "        price_to_bids[bid[2]].append(bid) #price -> total 4d data row\n",
    "        prices.append(bid[2]) # price list\n",
    "    \n",
    "    for price in price_to_bids:\n",
    "        price_to_bids[price].sort(key=lambda x: x[3])\n",
    "    \n",
    "    #print(price_to_bids)\n",
    "    \n",
    "    prices = sorted(prices, reverse=True)\n",
    "    for price in prices:\n",
    "        if totalShare == 0:\n",
    "            break\n",
    "        cur_bids = price_to_bids[price]\n",
    "        if len(cur_bids) == 1:\n",
    "            cur_bid = cur_bids[0]\n",
    "            allot = cur_bid[1] if cur_bid[1] < totalShare else totalShare\n",
    "            cur_bid[1] -= allot\n",
    "            totalShare -= allot\n",
    "        else:\n",
    "            while totalShare > 0 and any(bid[1]>0 for bid in cur_bids):\n",
    "                for bid in cur_bids:\n",
    "                    if totalShare == 0:\n",
    "                        break\n",
    "                    if bid[1] == 0:\n",
    "                        continue\n",
    "                    bid[1] -= 1\n",
    "                    totalShare -= 1\n",
    "    \n",
    "    print(bids)\n",
    "    res = []\n",
    "    for bid in bids:\n",
    "        if bid[1] == origin[bid[0]]:\n",
    "            res.append(bid[0])\n",
    "    return sorted(res)\n",
    "\n",
    "print(main_bidder([[1, 2, 5, 0], [2, 1, 4, 2], [3, 5, 4, 6]],3))\n"
   ]
  },
  {
   "cell_type": "code",
   "execution_count": 15,
   "metadata": {},
   "outputs": [
    {
     "name": "stdout",
     "output_type": "stream",
     "text": [
      "[[4, 5, 6], [3, 5, 6], [3, 4, 6], [3, 4, 5], [2, 5, 6], [2, 4, 6], [2, 4, 5], [2, 3, 6], [2, 3, 5], [2, 3, 4], [1, 5, 6], [1, 4, 6], [1, 4, 5], [1, 3, 6], [1, 3, 5], [1, 3, 4], [1, 2, 6], [1, 2, 5], [1, 2, 4], [1, 2, 3]]\n",
      "cant iteraciones: 156\n"
     ]
    }
   ],
   "source": [
    "conjunto = [1,2,3,4,5,6]\n",
    "k = 3\n",
    "lista = []\n",
    "iteraciones = [0]\n",
    "def subconjuntos(l, k):\n",
    "    if k == len(l):\n",
    "        if not l in lista:\n",
    "            lista.append(l)\n",
    "        return\n",
    "    for i in l:\n",
    "        aux = l[:]\n",
    "        aux.remove(i)\n",
    "        result = subconjuntos(aux, k)\n",
    "        iteraciones[0] += 1\n",
    "        if not result in lista and result:\n",
    "            lista.append( result)\n",
    "\n",
    "subconjuntos(conjunto, k)\n",
    "print (lista)\n",
    "print ('cant iteraciones: ' + str(iteraciones[0]))"
   ]
  },
  {
   "cell_type": "code",
   "execution_count": 17,
   "metadata": {},
   "outputs": [
    {
     "name": "stdout",
     "output_type": "stream",
     "text": [
      "[156]\n"
     ]
    }
   ],
   "source": [
    "print(iteraciones)"
   ]
  },
  {
   "cell_type": "code",
   "execution_count": 18,
   "metadata": {},
   "outputs": [
    {
     "name": "stdout",
     "output_type": "stream",
     "text": [
      "[(1, 2), (1, 3), (2, 3)]\n"
     ]
    }
   ],
   "source": [
    "import itertools\n",
    "  \n",
    "def findsubsets(s, n):\n",
    "    return list(itertools.combinations(s, n))\n",
    "  \n",
    "# Driver Code\n",
    "s = {1, 2, 3}\n",
    "n = 2\n",
    "  \n",
    "print(findsubsets(s, n))"
   ]
  },
  {
   "cell_type": "code",
   "execution_count": 19,
   "metadata": {},
   "outputs": [
    {
     "name": "stdout",
     "output_type": "stream",
     "text": [
      "10 20 30  \n",
      "10 20 40  \n",
      "10 20 50  \n",
      "10 30 40  \n",
      "10 30 50  \n",
      "10 40 50  \n",
      "20 30 40  \n",
      "20 30 50  \n",
      "20 40 50  \n",
      "30 40 50  \n"
     ]
    }
   ],
   "source": [
    "\n",
    "# Python3 program to print all\n",
    "# subset combination of n\n",
    "# element in given set of r element .\n",
    " \n",
    "# arr[] ---> Input Array\n",
    "# data[] ---> Temporary array to\n",
    "#             store current combination\n",
    "# start & end ---> Staring and Ending\n",
    "#                  indexes in arr[]\n",
    "# index ---> Current index in data[]\n",
    "# r ---> Size of a combination\n",
    "#        to be printed\n",
    "def combinationUtil(arr, n, r,\n",
    "                    index, data, i):\n",
    "    # Current combination is\n",
    "    # ready to be printed,\n",
    "    # print it\n",
    "    if(index == r):\n",
    "        for j in range(r):\n",
    "            print(data[j], end = \" \")\n",
    "        print(\" \")\n",
    "        return\n",
    " \n",
    "    # When no more elements\n",
    "    # are there to put in data[]\n",
    "    if(i >= n):\n",
    "        return\n",
    " \n",
    "    # current is included,\n",
    "    # put next at next\n",
    "    # location\n",
    "    data[index] = arr[i]\n",
    "    combinationUtil(arr, n, r,\n",
    "                    index + 1, data, i + 1)\n",
    "     \n",
    "    # current is excluded,\n",
    "    # replace it with\n",
    "    # next (Note that i+1\n",
    "    # is passed, but index\n",
    "    # is not changed)\n",
    "    combinationUtil(arr, n, r, index,\n",
    "                    data, i + 1)\n",
    " \n",
    " \n",
    "# The main function that\n",
    "# prints all combinations\n",
    "# of size r in arr[] of\n",
    "# size n. This function\n",
    "# mainly uses combinationUtil()\n",
    "def printcombination(arr, n, r):\n",
    " \n",
    "    # A temporary array to\n",
    "    # store all combination\n",
    "    # one by one\n",
    "    data = list(range(r))\n",
    "     \n",
    "    # Print all combination\n",
    "    # using temporary\n",
    "    # array 'data[]'\n",
    "    combinationUtil(arr, n, r,\n",
    "                    0, data, 0)\n",
    " \n",
    " \n",
    "# Driver Code\n",
    "arr = [10, 20, 30, 40, 50]\n",
    " \n",
    "r = 3\n",
    "n = len(arr)\n",
    "printcombination(arr, n, r)\n",
    " \n",
    "# This code is contributed\n",
    "# by Ambuj sahu"
   ]
  },
  {
   "cell_type": "code",
   "execution_count": 28,
   "metadata": {},
   "outputs": [
    {
     "name": "stdout",
     "output_type": "stream",
     "text": [
      "3\n"
     ]
    }
   ],
   "source": [
    "llst=[2,3,5,9]\n",
    "kk=3\n",
    "myls=[]\n",
    "def subconjuntos(l, k):\n",
    "    \n",
    "    if k == len(l):\n",
    "        if not l in myls:\n",
    "            myls.append(l)\n",
    "        return\n",
    "    for i in l:\n",
    "        aux = l[:]\n",
    "        aux.remove(i)\n",
    "        result = subconjuntos(aux, k)\n",
    "        #iteraciones[0] += 1\n",
    "        if not result in myls and result:\n",
    "            myls.appned(result)\n",
    "subconjuntos(llst,kk)\n",
    "def minimum_distance(arr):\n",
    "    arr.sort()\n",
    "    min_diff=min(arr[i+1]-arr[i] for i in range(len(arr)-1))\n",
    "    return min_diff\n",
    "print(max([minimum_distance(i) for i in myls]))"
   ]
  },
  {
   "cell_type": "code",
   "execution_count": 21,
   "metadata": {},
   "outputs": [],
   "source": [
    "subconjuntos([1,2,3,4,5,6],3)"
   ]
  },
  {
   "cell_type": "markdown",
   "metadata": {},
   "source": [
    "\tdef minimumAbsDifference(self, arr: List[int]) -> List[List[int]]:\n",
    "\t\tarr.sort()\n",
    "\t\tmin_diff = min([arr[i+1] - arr[i] for i in range(len(arr) - 1)])"
   ]
  },
  {
   "cell_type": "code",
   "execution_count": 24,
   "metadata": {},
   "outputs": [],
   "source": [
    "def minimum_distance(arr):\n",
    "    arr.sort()\n",
    "    min_diff=min(arr[i+1]-arr[i] for i in range(len(arr)-1))\n",
    "    return min_diff"
   ]
  },
  {
   "cell_type": "markdown",
   "metadata": {},
   "source": [
    "#best time to buy stock java version\n",
    "\n",
    "public class Solution {\n",
    "    public int maxProfit(int prices[]) {\n",
    "        int minprice = Integer.MAX_VALUE;\n",
    "        int maxprofit = 0;\n",
    "        for (int i = 0; i < prices.length; i++) {\n",
    "            if (prices[i] < minprice)\n",
    "                minprice = prices[i];\n",
    "            else if (prices[i] - minprice > maxprofit)\n",
    "                maxprofit = prices[i] - minprice;\n",
    "        }\n",
    "        return maxprofit;\n",
    "    }\n",
    "}"
   ]
  },
  {
   "cell_type": "code",
   "execution_count": 43,
   "metadata": {},
   "outputs": [],
   "source": [
    "# Even subarray\n",
    "# Python3 program to count the Number\n",
    "# of subarrays with m odd numbers\n",
    "# O(N) approach\n",
    " \n",
    "# function that returns the count\n",
    "# of subarrays with m odd numbers\n",
    "# Exact m subarray\n",
    " \n",
    "def countSubarrays(a, n, m):\n",
    "    count = 0\n",
    "    prefix = [0] * (n+1)\n",
    "    odd = 0\n",
    " \n",
    "    # traverse in the array\n",
    "    for i in range(n):\n",
    "        prefix[odd] += 1\n",
    " \n",
    "        # if array element is odd\n",
    "        if (a[i] & 1):\n",
    "            odd += 1\n",
    " \n",
    "        # when number of odd elements>=M\n",
    "        if (odd >= m):\n",
    "            count += prefix[odd - m]\n",
    " \n",
    "    return count\n",
    " \n",
    "\n",
    "a = [1,2,3,4]\n",
    "n = len(a)\n",
    "m = 1\n",
    "\n",
    "count_num=0\n",
    "for i in range(m+1):\n",
    "   count_num+=countSubarrays(a,n,i)\n",
    " \n"
   ]
  },
  {
   "cell_type": "code",
   "execution_count": 44,
   "metadata": {},
   "outputs": [
    {
     "data": {
      "text/plain": [
       "8"
      ]
     },
     "execution_count": 44,
     "metadata": {},
     "output_type": "execute_result"
    }
   ],
   "source": [
    "count_num"
   ]
  },
  {
   "cell_type": "code",
   "execution_count": 41,
   "metadata": {},
   "outputs": [
    {
     "data": {
      "text/plain": [
       "16"
      ]
     },
     "execution_count": 41,
     "metadata": {},
     "output_type": "execute_result"
    }
   ],
   "source": [
    "countSubarrays(a,n,2)"
   ]
  },
  {
   "cell_type": "code",
   "execution_count": 51,
   "metadata": {},
   "outputs": [],
   "source": [
    "\n",
    "#leet code 611\n",
    "def trianglenumber(nums):\n",
    "    if len(nums)<3:\n",
    "        return 0\n",
    "    nums=sorted(nums,reverse=True)\n",
    "\n",
    "    n=len(nums)\n",
    "    ans=0\n",
    "    for c in range(0,n-2):\n",
    "        b=c+1\n",
    "        a=n-1\n",
    "        while (b<a):\n",
    "            if nums[a]+nums[b]>nums[c]:\n",
    "                ans+=(a-b)\n",
    "                b+=1\n",
    "            else:\n",
    "                a-=1\n",
    "    return ans"
   ]
  },
  {
   "cell_type": "code",
   "execution_count": 52,
   "metadata": {},
   "outputs": [
    {
     "data": {
      "text/plain": [
       "3"
      ]
     },
     "execution_count": 52,
     "metadata": {},
     "output_type": "execute_result"
    }
   ],
   "source": [
    "trianglenumber([2,2,3,4])"
   ]
  },
  {
   "cell_type": "code",
   "execution_count": null,
   "metadata": {},
   "outputs": [],
   "source": []
  }
 ],
 "metadata": {
  "kernelspec": {
   "display_name": "Python 3",
   "language": "python",
   "name": "python3"
  },
  "language_info": {
   "codemirror_mode": {
    "name": "ipython",
    "version": 3
   },
   "file_extension": ".py",
   "mimetype": "text/x-python",
   "name": "python",
   "nbconvert_exporter": "python",
   "pygments_lexer": "ipython3",
   "version": "3.7.4"
  }
 },
 "nbformat": 4,
 "nbformat_minor": 2
}
