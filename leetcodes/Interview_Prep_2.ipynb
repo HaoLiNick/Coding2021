{
 "cells": [
  {
   "cell_type": "code",
   "execution_count": null,
   "metadata": {},
   "outputs": [],
   "source": [
    "class LinkedNode:\n",
    "    def __init__(self,key,val,prev_node=None,next_node=None):\n",
    "        self.key=key\n",
    "        self.val=val\n",
    "        self.prev=prev_node\n",
    "        self.next=next_node\n",
    "class DoubleLinkedList():\n",
    "    def __init__(self,capacity):\n",
    "        self.capacity=capacity\n",
    "        self.size=0\n",
    "        self.head=None\n",
    "        self.tail=None\n",
    "    def append(self,node):\n",
    "        if self.size==self.capacity:\n",
    "            raise ValueError(\"The double link list is full\")\n",
    "        self.size+=1\n",
    "        if self.head is None:\n",
    "            self.head=self.tail=node\n",
    "            return\n",
    "        self.tail.next=node\n",
    "        node.prev=self.tail\n",
    "        self.tail=node\n",
    "    def delete(self,node):\n",
    "        if self.size==0:\n",
    "            raise ValueError(\"Cannot del an empty double link list\")\n",
    "        self.size-=1\n",
    "        if node==self.head:\n",
    "            if node.next:\n",
    "                node.next.prev=None\n",
    "            self.head=node.next\n",
    "        elif node==slef.tail:\n",
    "            if node.prev:\n",
    "                node.prev.next=None\n",
    "            self.tail=node.prev\n",
    "        else:\n",
    "            node.prev.next=node.next\n",
    "            node.next.prev=node.prev\n",
    "        return node\n",
    "\n",
    "class LRUCache():\n",
    "    def __init__(self,capacity):\n",
    "        self.capacity=capacity\n",
    "        self.cache_look_up={}\n",
    "        self.cache_list=DoubleLinkedList(capacity)\n",
    "    def get(self,key):\n",
    "        if key not in self.cache_look_up:\n",
    "            return -1\n",
    "        node=self.cache_look_up[key]\n",
    "        cache_list.delete(node)\n",
    "        cache_list.append(node)\n",
    "        return node.val\n",
    "        "
   ]
  }
 ],
 "metadata": {
  "kernelspec": {
   "display_name": "Python 3",
   "language": "python",
   "name": "python3"
  },
  "language_info": {
   "codemirror_mode": {
    "name": "ipython",
    "version": 3
   },
   "file_extension": ".py",
   "mimetype": "text/x-python",
   "name": "python",
   "nbconvert_exporter": "python",
   "pygments_lexer": "ipython3",
   "version": "3.7.4"
  }
 },
 "nbformat": 4,
 "nbformat_minor": 2
}
