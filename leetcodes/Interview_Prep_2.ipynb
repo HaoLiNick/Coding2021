{
 "cells": [
  {
   "cell_type": "code",
   "execution_count": 1,
   "metadata": {},
   "outputs": [],
   "source": [
    "class LinkedNode:\n",
    "    def __init__(self,key,val,prev_node=None,next_node=None):\n",
    "        self.key=key\n",
    "        self.val=val\n",
    "        self.prev=prev_node\n",
    "        self.next=next_node\n",
    "class DoubleLinkedList():\n",
    "    def __init__(self,capacity):\n",
    "        self.capacity=capacity\n",
    "        self.size=0\n",
    "        self.head=None\n",
    "        self.tail=None\n",
    "    def append(self,node):\n",
    "        if self.size==self.capacity:\n",
    "            raise ValueError(\"The double link list is full\")\n",
    "        self.size+=1\n",
    "        if self.head is None:\n",
    "            self.head=self.tail=node\n",
    "            return\n",
    "        self.tail.next=node\n",
    "        node.prev=self.tail\n",
    "        self.tail=node\n",
    "    def delete(self,node):\n",
    "        if self.size==0:\n",
    "            raise ValueError(\"Cannot del an empty double link list\")\n",
    "        self.size-=1\n",
    "        if node==self.head:\n",
    "            if node.next:\n",
    "                node.next.prev=None\n",
    "            self.head=node.next\n",
    "        elif node==slef.tail:\n",
    "            if node.prev:\n",
    "                node.prev.next=None\n",
    "            self.tail=node.prev\n",
    "        else:\n",
    "            node.prev.next=node.next\n",
    "            node.next.prev=node.prev\n",
    "        return node\n",
    "\n",
    "class LRUCache():\n",
    "    def __init__(self,capacity):\n",
    "        self.capacity=capacity\n",
    "        self.cache_look_up={}\n",
    "        self.cache_list=DoubleLinkedList(capacity)\n",
    "    def get(self,key):\n",
    "        if key not in self.cache_look_up:\n",
    "            return -1\n",
    "        node=self.cache_look_up[key]\n",
    "        cache_list.delete(node)\n",
    "        cache_list.append(node)\n",
    "        return node.val\n",
    "    def put(self,key,value):\n",
    "        if key in self.cache_look_up:\n",
    "            node=self.cache_look_up[key]\n",
    "            node.val=value\n",
    "            self.cache_list.delete(node)\n",
    "            self.cache_list.append(node)\n",
    "        else:\n",
    "            if self.capacity==self.cache_list.size:\n",
    "                head_node=self.cache_list.delete(self.cache_list.head)\n",
    "                del self.cache_look_up[head_node.key]\n",
    "            new_node=LinkedNode(key.value)\n",
    "            self.cache_look_up[key]=new_node\n",
    "            self.cache_list.append(new_node)\n",
    "        "
   ]
  },
  {
   "cell_type": "code",
   "execution_count": 2,
   "metadata": {},
   "outputs": [],
   "source": [
    "#make a calculator\n",
    "def calculator(s:str)->int:\n",
    "    pos=0\n",
    "    def eval_cal():\n",
    "        val=0\n",
    "        sign=1\n",
    "        ret=0\n",
    "        while pos<len(s):\n",
    "            ch=s[pos]\n",
    "            if ch==' ':\n",
    "                pos+=1\n",
    "            elif ch==\"(\":\n",
    "                pos+=1\n",
    "                val=eval_cal()\n",
    "            elif ch==\")\":\n",
    "                pos+=1\n",
    "                ret+=sign*val\n",
    "                return ret\n",
    "            elif ch==\"+\" or ch==\"-\":\n",
    "                ret+=sign*val\n",
    "                val=0\n",
    "                sign=1 if ch==\"+\" else -1\n",
    "                pos+=1\n",
    "            else:\n",
    "                val=val*10+(ord(ch)-ord('0'))\n",
    "                pos+=1\n",
    "        ret+=val*sign\n",
    "        return ret\n",
    "    return eval_cal()"
   ]
  },
  {
   "cell_type": "code",
   "execution_count": 9,
   "metadata": {},
   "outputs": [
    {
     "data": {
      "text/plain": [
       "'1'"
      ]
     },
     "execution_count": 9,
     "metadata": {},
     "output_type": "execute_result"
    }
   ],
   "source": [
    "import re\n",
    "string_tst=\"1 two aheiewivh apple\"\n",
    "pattern='((two|1)).*?apple'\n",
    "re.match(pattern,string_tst).group(1)\n"
   ]
  },
  {
   "cell_type": "code",
   "execution_count": 10,
   "metadata": {},
   "outputs": [],
   "source": [
    "class Node:\n",
    "    def __init__(self,name):\n",
    "        self.name=name\n",
    "        self.adjacency_list=[]\n",
    "        self.visited=False\n",
    "def bfs_first(start_node):\n",
    "    # FIFO Struture: First item we insert will be the first item popping out\n",
    "    queue=[start_node]\n",
    "    while queue:\n",
    "        actual_node=queue.pop(0)\n",
    "        actual_node.visited=True\n",
    "        print(actual_node.name)\n",
    "        for n in actual_node.adjacency_list:\n",
    "            if not n.visited:\n",
    "                queue.append(n)"
   ]
  },
  {
   "cell_type": "code",
   "execution_count": 16,
   "metadata": {},
   "outputs": [],
   "source": [
    "from collections import deque\n",
    "def wordladderi(beginword,endword,wordlist):\n",
    "    wordset=set(wordlist)\n",
    "    queue=deque()\n",
    "    queue.append((beginword,1))\n",
    "    word_length=len(beginword)\n",
    "    while queue:\n",
    "        word,step=queue.popleft()\n",
    "        if word==endword:\n",
    "            return step\n",
    "        for i in range(word_length):\n",
    "            for c in \"abcdefghijklmnopqrstuvwxyz\":\n",
    "                newword=word[:i]+c+word[i+1:]\n",
    "                if newword in wordset:\n",
    "                    wordset.remove(newword)\n",
    "                    queue.append((newword,step+1))\n",
    "    return 0\n"
   ]
  },
  {
   "cell_type": "code",
   "execution_count": 17,
   "metadata": {},
   "outputs": [
    {
     "data": {
      "text/plain": [
       "5"
      ]
     },
     "execution_count": 17,
     "metadata": {},
     "output_type": "execute_result"
    }
   ],
   "source": [
    "wordladderi(\"hit\",\"cog\",[\"hot\",\"dot\",\"dog\",\"lot\",\"log\",\"cog\"])"
   ]
  },
  {
   "cell_type": "markdown",
   "metadata": {},
   "source": [
    "dfs(vertex):\n",
    "    vertex set visited = Ture:\n",
    "    print vertex\n",
    "    for v in vertex.neibors:\n",
    "        if v is not visited:\n",
    "            dfs(v)\n",
    "dfs(vertex):\n",
    "    stack-> Last in, first out LIFO structure\n",
    "    stack.push(vertex)\n",
    "    while stack not empty:\n",
    "        actual=stack.pop()\n",
    "        actual set visited = True:\n",
    "        for v in actual.neibors:\n",
    "            if v is not visited:\n",
    "                "
   ]
  }
 ],
 "metadata": {
  "kernelspec": {
   "display_name": "Python 3",
   "language": "python",
   "name": "python3"
  },
  "language_info": {
   "codemirror_mode": {
    "name": "ipython",
    "version": 3
   },
   "file_extension": ".py",
   "mimetype": "text/x-python",
   "name": "python",
   "nbconvert_exporter": "python",
   "pygments_lexer": "ipython3",
   "version": "3.7.4"
  }
 },
 "nbformat": 4,
 "nbformat_minor": 2
}
