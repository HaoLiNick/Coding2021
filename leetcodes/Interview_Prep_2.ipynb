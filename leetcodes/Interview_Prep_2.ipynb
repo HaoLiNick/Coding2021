{
 "cells": [
  {
   "cell_type": "code",
   "execution_count": 1,
   "metadata": {},
   "outputs": [],
   "source": [
    "class LinkedNode:\n",
    "    def __init__(self,key,val,prev_node=None,next_node=None):\n",
    "        self.key=key\n",
    "        self.val=val\n",
    "        self.prev=prev_node\n",
    "        self.next=next_node\n",
    "class DoubleLinkedList():\n",
    "    def __init__(self,capacity):\n",
    "        self.capacity=capacity\n",
    "        self.size=0\n",
    "        self.head=None\n",
    "        self.tail=None\n",
    "    def append(self,node):\n",
    "        if self.size==self.capacity:\n",
    "            raise ValueError(\"The double link list is full\")\n",
    "        self.size+=1\n",
    "        if self.head is None:\n",
    "            self.head=self.tail=node\n",
    "            return\n",
    "        self.tail.next=node\n",
    "        node.prev=self.tail\n",
    "        self.tail=node\n",
    "    def delete(self,node):\n",
    "        if self.size==0:\n",
    "            raise ValueError(\"Cannot del an empty double link list\")\n",
    "        self.size-=1\n",
    "        if node==self.head:\n",
    "            if node.next:\n",
    "                node.next.prev=None\n",
    "            self.head=node.next\n",
    "        elif node==slef.tail:\n",
    "            if node.prev:\n",
    "                node.prev.next=None\n",
    "            self.tail=node.prev\n",
    "        else:\n",
    "            node.prev.next=node.next\n",
    "            node.next.prev=node.prev\n",
    "        return node\n",
    "\n",
    "class LRUCache():\n",
    "    def __init__(self,capacity):\n",
    "        self.capacity=capacity\n",
    "        self.cache_look_up={}\n",
    "        self.cache_list=DoubleLinkedList(capacity)\n",
    "    def get(self,key):\n",
    "        if key not in self.cache_look_up:\n",
    "            return -1\n",
    "        node=self.cache_look_up[key]\n",
    "        cache_list.delete(node)\n",
    "        cache_list.append(node)\n",
    "        return node.val\n",
    "    def put(self,key,value):\n",
    "        if key in self.cache_look_up:\n",
    "            node=self.cache_look_up[key]\n",
    "            node.val=value\n",
    "            self.cache_list.delete(node)\n",
    "            self.cache_list.append(node)\n",
    "        else:\n",
    "            if self.capacity==self.cache_list.size:\n",
    "                head_node=self.cache_list.delete(self.cache_list.head)\n",
    "                del self.cache_look_up[head_node.key]\n",
    "            new_node=LinkedNode(key.value)\n",
    "            self.cache_look_up[key]=new_node\n",
    "            self.cache_list.append(new_node)\n",
    "        "
   ]
  },
  {
   "cell_type": "code",
   "execution_count": 2,
   "metadata": {},
   "outputs": [],
   "source": [
    "#make a calculator\n",
    "def calculator(s:str)->int:\n",
    "    pos=0\n",
    "    def eval_cal():\n",
    "        val=0\n",
    "        sign=1\n",
    "        ret=0\n",
    "        while pos<len(s):\n",
    "            ch=s[pos]\n",
    "            if ch==' ':\n",
    "                pos+=1\n",
    "            elif ch==\"(\":\n",
    "                pos+=1\n",
    "                val=eval_cal()\n",
    "            elif ch==\")\":\n",
    "                pos+=1\n",
    "                ret+=sign*val\n",
    "                return ret\n",
    "            elif ch==\"+\" or ch==\"-\":\n",
    "                ret+=sign*val\n",
    "                val=0\n",
    "                sign=1 if ch==\"+\" else -1\n",
    "                pos+=1\n",
    "            else:\n",
    "                val=val*10+(ord(ch)-ord('0'))\n",
    "                pos+=1\n",
    "        ret+=val*sign\n",
    "        return ret\n",
    "    return eval_cal()"
   ]
  },
  {
   "cell_type": "code",
   "execution_count": 9,
   "metadata": {},
   "outputs": [
    {
     "data": {
      "text/plain": [
       "'1'"
      ]
     },
     "execution_count": 9,
     "metadata": {},
     "output_type": "execute_result"
    }
   ],
   "source": [
    "import re\n",
    "string_tst=\"1 two aheiewivh apple\"\n",
    "pattern='((two|1)).*?apple'\n",
    "re.match(pattern,string_tst).group(1)\n"
   ]
  },
  {
   "cell_type": "code",
   "execution_count": 10,
   "metadata": {},
   "outputs": [],
   "source": [
    "class Node:\n",
    "    def __init__(self,name):\n",
    "        self.name=name\n",
    "        self.adjacency_list=[]\n",
    "        self.visited=False\n",
    "def bfs_first(start_node):\n",
    "    # FIFO Struture: First item we insert will be the first item popping out\n",
    "    queue=[start_node]\n",
    "    while queue:\n",
    "        actual_node=queue.pop(0)\n",
    "        actual_node.visited=True\n",
    "        print(actual_node.name)\n",
    "        for n in actual_node.adjacency_list:\n",
    "            if not n.visited:\n",
    "                queue.append(n)"
   ]
  },
  {
   "cell_type": "code",
   "execution_count": 18,
   "metadata": {},
   "outputs": [],
   "source": [
    "from collections import deque\n",
    "def wordladderi(beginword,endword,wordlist):\n",
    "    wordset=set(wordlist)\n",
    "    queue=deque()\n",
    "    queue.append((beginword,1))\n",
    "    word_length=len(beginword)\n",
    "    while queue:\n",
    "        word,step=queue.popleft()\n",
    "        if word==endword:\n",
    "            return step\n",
    "        for i in range(word_length):\n",
    "            for c in \"abcdefghijklmnopqrstuvwxyz\":\n",
    "                newword=word[:i]+c+word[i+1:]\n",
    "                if newword in wordset:\n",
    "                    wordset.remove(newword)\n",
    "                    queue.append((newword,step+1))\n",
    "    return 0\n"
   ]
  },
  {
   "cell_type": "code",
   "execution_count": 19,
   "metadata": {},
   "outputs": [
    {
     "data": {
      "text/plain": [
       "5"
      ]
     },
     "execution_count": 19,
     "metadata": {},
     "output_type": "execute_result"
    }
   ],
   "source": [
    "wordladderi(\"hit\",\"cog\",[\"hot\",\"dot\",\"dog\",\"lot\",\"log\",\"cog\"])"
   ]
  },
  {
   "cell_type": "markdown",
   "metadata": {},
   "source": [
    "dfs(vertex):\n",
    "    vertex set visited = Ture:\n",
    "    print vertex\n",
    "    for v in vertex.neibors:\n",
    "        if v is not visited:\n",
    "            dfs(v)\n",
    "dfs(vertex):\n",
    "    stack-> Last in, first out LIFO structure\n",
    "    stack.push(vertex)\n",
    "    while stack not empty:\n",
    "        actual=stack.pop()\n",
    "        actual set visited = True:\n",
    "        for v in actual.neibors:\n",
    "            if v is not visited:\n",
    "                stack.push(v)\n",
    " "
   ]
  },
  {
   "cell_type": "code",
   "execution_count": 4,
   "metadata": {},
   "outputs": [
    {
     "name": "stdout",
     "output_type": "stream",
     "text": [
      "1\n"
     ]
    }
   ],
   "source": [
    "# Max Item in Stacks\n",
    "# O(1) but the memory complextiy is O(n)\n",
    "class MaxStack:\n",
    "    def __init__(self):\n",
    "        self.main_stack=[]\n",
    "        self.max_stack=[]\n",
    "        \n",
    "    def push(self,data):\n",
    "        self.main_stack.append(data)\n",
    "        if (len(self.main_stack)==1):\n",
    "            self.max_stack.append(data)\n",
    "            return\n",
    "        if data>self.max_stack[-1]:\n",
    "            self.max_stack.append(data)\n",
    "        else:\n",
    "            self.max_stack.append(self.max_stack[-1])\n",
    "\n",
    "            \n",
    "    def pop(self):\n",
    "        self.max_stack.pop()\n",
    "        return self.max_stack.pop()\n",
    "\n",
    "    def get_max(self):\n",
    "        return self.main_stack.pop()\n",
    "if __name__==\"__main__\":\n",
    "    max_stack_running=MaxStack()\n",
    "    max_stack_running.push(1000)\n",
    "    max_stack_running.push(100)\n",
    "    max_stack_running.push(10)\n",
    "    max_stack_running.push(10000)\n",
    "    max_stack_running.push(1)\n",
    "    print(max_stack_running.get_max())"
   ]
  },
  {
   "cell_type": "code",
   "execution_count": 10,
   "metadata": {},
   "outputs": [
    {
     "name": "stdout",
     "output_type": "stream",
     "text": [
      "[99, 8, 13, -2, 1, -5, 0, 0, 0, 0]\n",
      "99\n",
      "13\n",
      "8\n",
      "1\n",
      "0\n",
      "-2\n",
      "-5\n"
     ]
    }
   ],
   "source": [
    "CAPACITY=10\n",
    "\n",
    "class Heap:\n",
    "    def __init__(self):\n",
    "        self.heap_size=0 # Actual number of items in the heap\n",
    "        self.heap=[0]*CAPACITY # the underlying data structure\n",
    "    def insert(self,items):\n",
    "        if self.heap_size==CAPACITY:\n",
    "            return\n",
    "        self.heap[self.heap_size]=items\n",
    "        self.heap_size+=1\n",
    "        # this is to insure the item inserted in the next location\n",
    "        self.fix_up(self.heap_size-1) # heapify\n",
    "    \n",
    "    # Log N complexity since it worst case will be from bottom to the top\n",
    "    def fix_up(self,index):\n",
    "        # if we have an index i, then the left child will be 2i+1 and the right index will be 2i+2\n",
    "        parent_index=(index-1)//2 # no matter it is a left child or a right child\n",
    "        if index>0 and self.heap[index]>self.heap[parent_index]:\n",
    "            self.heap[index],self.heap[parent_index]=self.heap[parent_index],self.heap[index]\n",
    "            self.fix_up(parent_index)\n",
    "    def get_max(self):\n",
    "        \"\"\"This function returns the max item with O(1) Complexity\"\"\"\n",
    "        \n",
    "        return self.heap[0]\n",
    "    \n",
    "    # Remove the root node from the heap\n",
    "    def poll(self):\n",
    "        max_item=self.get_max()\n",
    "        self.heap[0],self.heap[self.heap_size-1]=self.heap[self.heap_size-1],self.heap[0]\n",
    "        self.heap_size-=1\n",
    "        \n",
    "        self.fix_down(0)\n",
    "        \n",
    "        return max_item\n",
    "    def fix_down(self,index):\n",
    "\n",
    "        left_index=2*index+1\n",
    "        right_index=2*index+2\n",
    "        largest_index=index\n",
    "        \n",
    "        if left_index<self.heap_size and self.heap[left_index]>self.heap[index]:\n",
    "            largest_index=left_index\n",
    "        if right_index<self.heap_size and self.heap[right_index]>self.heap[largest_index]:\n",
    "            largest_index=right_index\n",
    "        if index!=largest_index:\n",
    "            self.heap[index],self.heap[largest_index]=self.heap[largest_index],self.heap[index]\n",
    "            self.fix_down(largest_index)\n",
    "    \n",
    "    def heap_sort(self):\n",
    "        for _ in range(self.heap_size):\n",
    "            max_item=self.poll()\n",
    "            print(max_item)\n",
    "if __name__==\"__main__\":\n",
    "    myheap=Heap()\n",
    "    myheap.insert(13)\n",
    "    myheap.insert(-2)\n",
    "    myheap.insert(-0)\n",
    "    myheap.insert(8)\n",
    "    myheap.insert(1)\n",
    "    myheap.insert(-5)\n",
    "    myheap.insert(99)\n",
    "    print(myheap.heap)\n",
    "    myheap.heap_sort()"
   ]
  },
  {
   "cell_type": "code",
   "execution_count": 11,
   "metadata": {},
   "outputs": [],
   "source": [
    "import heapq\n",
    "# it is the min heap implenmentation\n",
    "heap=[4,7,3,-2,1,0]\n",
    "heapq.heapify(heap)\n"
   ]
  },
  {
   "cell_type": "code",
   "execution_count": null,
   "metadata": {},
   "outputs": [],
   "source": []
  },
  {
   "cell_type": "code",
   "execution_count": 13,
   "metadata": {},
   "outputs": [
    {
     "data": {
      "text/plain": [
       "[('hit', 1),\n",
       " ('hot', 2),\n",
       " ('dot', 3),\n",
       " ('lot', 3),\n",
       " ('dog', 4),\n",
       " ('log', 4),\n",
       " ('cog', 5)]"
      ]
     },
     "execution_count": 13,
     "metadata": {},
     "output_type": "execute_result"
    }
   ],
   "source": [
    "wordladderi(\"hit\",\"cog\",[\"hot\",\"dot\",\"dog\",\"lot\",\"log\",\"cog\"])"
   ]
  },
  {
   "cell_type": "code",
   "execution_count": 16,
   "metadata": {},
   "outputs": [],
   "source": [
    "from collections import defaultdict\n",
    "def findladders(beginword,endword,wordlist):\n",
    "    #wordlist\n",
    "    if endword not in wordlist:\n",
    "        return []\n",
    "    n=len(beginword)\n",
    "    graph=defaultdict(list)\n",
    "    for word in wordlist:\n",
    "        for i in range(n):\n",
    "            graph[word[:i]+'-'+word[i+1:]].append(word)\n",
    "    \n",
    "    queue=deque()\n",
    "    queue.append((beginword,1,[beginword]))\n",
    "    seen=set()\n",
    "    groups=[]\n",
    "    minlevel=len(wordlist)+2\n",
    "    \n",
    "    while queue:\n",
    "        current,level,prev=queue.popleft()\n",
    "        seen.add(current)\n",
    "        intermediates=[]\n",
    "        for i in range(n):\n",
    "            "
   ]
  },
  {
   "cell_type": "code",
   "execution_count": 17,
   "metadata": {},
   "outputs": [
    {
     "data": {
      "text/plain": [
       "defaultdict(list,\n",
       "            {'-ot': ['hot', 'dot', 'lot'],\n",
       "             'h-t': ['hot'],\n",
       "             'ho-': ['hot'],\n",
       "             'd-t': ['dot'],\n",
       "             'do-': ['dot', 'dog'],\n",
       "             '-og': ['dog', 'log', 'cog'],\n",
       "             'd-g': ['dog'],\n",
       "             'l-t': ['lot'],\n",
       "             'lo-': ['lot', 'log'],\n",
       "             'l-g': ['log'],\n",
       "             'c-g': ['cog'],\n",
       "             'co-': ['cog']})"
      ]
     },
     "execution_count": 17,
     "metadata": {},
     "output_type": "execute_result"
    }
   ],
   "source": [
    "findladders(\"hit\",\"cog\",[\"hot\",\"dot\",\"dog\",\"lot\",\"log\",\"cog\"])"
   ]
  },
  {
   "cell_type": "code",
   "execution_count": 20,
   "metadata": {},
   "outputs": [],
   "source": [
    "class NewNode:\n",
    "    def __init__(self,key):\n",
    "        self.data=key\n",
    "        self.left=None\n",
    "        self.right=None\n",
    "        self.hd=0\n",
    "def topview(root):\n",
    "    if root==None:\n",
    "        return []\n",
    "    queue=deque()\n",
    "    mydict=dict()\n",
    "    hd=0\n",
    "    root.hd=hd\n",
    "    \n",
    "    queue.append(root)\n",
    "    while queue:\n",
    "        root=queue.popleft()\n",
    "        hd=root.hd\n",
    "        if hd not in mydict:\n",
    "            mydict[hd]=root.data\n",
    "        if(root.left):\n",
    "            root.left.hd=hd-1\n",
    "            queue.append(root.left)\n",
    "        if(root.right):\n",
    "            root.right.hd=hd+1\n",
    "            queue.append(root.right)\n",
    "    for i in sorted(mydict):\n",
    "        print(mydict[i])\n",
    "        "
   ]
  },
  {
   "cell_type": "code",
   "execution_count": 21,
   "metadata": {},
   "outputs": [
    {
     "name": "stdout",
     "output_type": "stream",
     "text": [
      "2\n",
      "1\n",
      "3\n",
      "6\n"
     ]
    }
   ],
   "source": [
    "root=NewNode(1)\n",
    "root.left=NewNode(2)\n",
    "root.right=NewNode(3)\n",
    "root.left.right=NewNode(4)\n",
    "root.left.right.right=NewNode(5)\n",
    "root.left.right.right.right=NewNode(6)\n",
    "topview(root)"
   ]
  },
  {
   "cell_type": "code",
   "execution_count": 22,
   "metadata": {},
   "outputs": [],
   "source": [
    "# LRU Using OrderDict\n",
    "from collections import OrderedDict\n",
    "class LRUCache():\n",
    "    def __init__(self,capacity):\n",
    "        self.capacity=capacity\n",
    "        self.cache=OrderedDict()\n",
    "    def get(self,key):\n",
    "        if key not in self.cache:\n",
    "            return -1\n",
    "        value=self.cache[key]\n",
    "        self.cache.pop(key)\n",
    "        self.cache[key]=value\n",
    "        return value\n",
    "    def put(self,key,value):\n",
    "        if key in self.cache:\n",
    "            self.cache.pop(key)\n",
    "            self.cache[key]=value\n",
    "       \n",
    "    else:\n",
    "            if len(self.cache.keys())==self.capacity:\n",
    "                self.cache.popitem(last=False)\n",
    "            else:\n",
    "                self.cache[key]=value"
   ]
  },
  {
   "cell_type": "code",
   "execution_count": 41,
   "metadata": {},
   "outputs": [],
   "source": [
    "#max contiguous subarray\n",
    "def maxsubarray(arr,i,j):\n",
    "    T=arr[0]\n",
    "    vmax=arr[0]\n",
    "    Tmin=min(0,T)\n",
    "    for k in range(1,len(arr)):\n",
    "        T+=arr[k]\n",
    "        if T-Tmin > vmax:\n",
    "            vmax=T-Tmin\n",
    "            j=k\n",
    "        if T<Tmin:\n",
    "            Tmin=T\n",
    "            i=k+1\n",
    "    return (i,j,vmax)"
   ]
  },
  {
   "cell_type": "code",
   "execution_count": 42,
   "metadata": {},
   "outputs": [
    {
     "data": {
      "text/plain": [
       "(6, 6, 6)"
      ]
     },
     "execution_count": 42,
     "metadata": {},
     "output_type": "execute_result"
    }
   ],
   "source": [
    "maxsubarray([1,-2,-5,4,-3,-2,6,-5,-1],0,0)"
   ]
  },
  {
   "cell_type": "code",
   "execution_count": 43,
   "metadata": {},
   "outputs": [],
   "source": [
    "#Leetcode 724\n",
    "def findpivot(nums):\n",
    "    l,r=0,sum(nums)\n",
    "    for l in range(len(nums)):\n",
    "        r-=nums[i]\n",
    "        if r==l: return i\n",
    "        l+=nums[i]\n",
    "    return -1"
   ]
  },
  {
   "cell_type": "code",
   "execution_count": 46,
   "metadata": {},
   "outputs": [],
   "source": [
    "#leetcode 1282\n",
    "#[2,1,3,3,3,2] -> [[1],[0,5],[2,3,4]]\n",
    "import collections\n",
    "def groupthepeople(groupsize):\n",
    "    res,groupmap=[],collections.defaultdict(list)\n",
    "    for i,gs in enumerate(groupsize):\n",
    "        groupmap[gs].append(i)\n",
    "    for k,ids in groupmap.items():\n",
    "        i=0\n",
    "        while i<len(ids):\n",
    "            res.append(ids[i:i+k])\n",
    "            i+=k\n",
    "    return res"
   ]
  },
  {
   "cell_type": "code",
   "execution_count": 47,
   "metadata": {},
   "outputs": [],
   "source": [
    "#sliding puzzle\n",
    "def board_sliding(board):\n",
    "    krows=2\n",
    "    kclos=3\n",
    "    goal='123450'\n",
    "    pass"
   ]
  },
  {
   "cell_type": "code",
   "execution_count": 48,
   "metadata": {},
   "outputs": [],
   "source": [
    "def max_n_of_apples(arr):\n",
    "    arr.sort(0)\n",
    "    res,t=0,0\n",
    "    for i,v in enumerate(arr):\n",
    "        t+=v\n",
    "        if t>5000:\n",
    "            break\n",
    "        res+=1\n",
    "    return res"
   ]
  },
  {
   "cell_type": "code",
   "execution_count": null,
   "metadata": {},
   "outputs": [],
   "source": []
  }
 ],
 "metadata": {
  "kernelspec": {
   "display_name": "Python 3",
   "language": "python",
   "name": "python3"
  },
  "language_info": {
   "codemirror_mode": {
    "name": "ipython",
    "version": 3
   },
   "file_extension": ".py",
   "mimetype": "text/x-python",
   "name": "python",
   "nbconvert_exporter": "python",
   "pygments_lexer": "ipython3",
   "version": "3.7.4"
  }
 },
 "nbformat": 4,
 "nbformat_minor": 2
}
