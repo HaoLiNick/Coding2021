{
 "cells": [
  {
   "cell_type": "code",
   "execution_count": 1,
   "metadata": {},
   "outputs": [],
   "source": [
    "# Item Wise\n",
    "#inv_map = {v: k for k, v in my_map.items()}"
   ]
  },
  {
   "cell_type": "code",
   "execution_count": 2,
   "metadata": {},
   "outputs": [
    {
     "data": {
      "text/plain": [
       "{1: 0, 2: 1, 3: 1}"
      ]
     },
     "execution_count": 2,
     "metadata": {},
     "output_type": "execute_result"
    }
   ],
   "source": [
    "dic = {0: [1, 2], 1: [2, 3]}\n",
    "{v: k for k, values in dic.items() for v in values}"
   ]
  },
  {
   "cell_type": "code",
   "execution_count": null,
   "metadata": {},
   "outputs": [],
   "source": [
    "from collections import defaultdict\n",
    "\n",
    "# A defaultdict is nice because if a key is not already defined, the key\n",
    "# will be added to the dictionary, and the value will go to a default. \n",
    "# Because we specify the default type to be an integer, that default value\n",
    "# will be 0.\n",
    "wordCount = defaultdict(int)\n",
    "for dictionary in listDict:\n",
    "    clean_str = dictionary['longDescription'].lower()\n",
    "    words = clean_str.split(' ')\n",
    "    for word in words:\n",
    "        word_count[word] += 1"
   ]
  }
 ],
 "metadata": {
  "kernelspec": {
   "display_name": "Python 3",
   "language": "python",
   "name": "python3"
  },
  "language_info": {
   "codemirror_mode": {
    "name": "ipython",
    "version": 3
   },
   "file_extension": ".py",
   "mimetype": "text/x-python",
   "name": "python",
   "nbconvert_exporter": "python",
   "pygments_lexer": "ipython3",
   "version": "3.7.4"
  }
 },
 "nbformat": 4,
 "nbformat_minor": 2
}
