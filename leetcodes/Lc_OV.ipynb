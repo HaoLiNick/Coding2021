{
 "cells": [
  {
   "cell_type": "code",
   "execution_count": 1,
   "metadata": {},
   "outputs": [],
   "source": [
    "import pandas as pd\n",
    "import numpy as np\n",
    "import time"
   ]
  },
  {
   "cell_type": "code",
   "execution_count": 5,
   "metadata": {},
   "outputs": [],
   "source": [
    "#248\n",
    "#looked upside down the same\n",
    "#01869\n",
    "def is_upsidedown(num:str)->bool:\n",
    "    mydict={\"0\":\"0\",\"1\":\"1\",\"8\":\"8\",\"9\":\"6\",\"6\":\"9\"}\n",
    "    for i in range(len(num)//2+1):\n",
    "        if mydict[num[i]]!=num[len(num)-i-1]:\n",
    "            return False\n",
    "    return True"
   ]
  },
  {
   "cell_type": "code",
   "execution_count": 10,
   "metadata": {},
   "outputs": [
    {
     "data": {
      "text/plain": [
       "True"
      ]
     },
     "execution_count": 10,
     "metadata": {},
     "output_type": "execute_result"
    }
   ],
   "source": [
    "is_upsidedown(\"8698\")"
   ]
  },
  {
   "cell_type": "code",
   "execution_count": 15,
   "metadata": {},
   "outputs": [],
   "source": [
    "#247\n",
    "def find_all_upsidedown(m,n):\n",
    "    if m==0:\n",
    "        return [\"\"]\n",
    "    elif m==1:\n",
    "        return[\"0\",\"1\",\"8\"]\n",
    "    elif m==2:\n",
    "        return[\"11\",\"88\",\"96\",\"69\"]\n",
    "\n",
    "    temp=find_all_upsidedown(m-2,n)\n",
    "    res=[]\n",
    "    for i in temp:\n",
    "        if m!=n:\n",
    "            res.append(\"0\"+i+\"0\")\n",
    "            res.append(\"8\"+i+\"8\")\n",
    "            res.append(\"1\"+i+\"1\")\n",
    "            res.append(\"6\"+i+\"9\")\n",
    "            res.append(\"9\"+i+\"6\")\n",
    "    \n",
    "    return res\n",
    "            \n",
    "\n",
    "def find_all_upsidedown_main(n:int)->list:\n",
    "    return find_all_upsidedown(n,n)\n"
   ]
  },
  {
   "cell_type": "code",
   "execution_count": 16,
   "metadata": {},
   "outputs": [
    {
     "data": {
      "text/plain": [
       "[]"
      ]
     },
     "execution_count": 16,
     "metadata": {},
     "output_type": "execute_result"
    }
   ],
   "source": [
    "find_all_upsidedown_main(4)"
   ]
  },
  {
   "cell_type": "code",
   "execution_count": 47,
   "metadata": {},
   "outputs": [],
   "source": [
    "mydict={\"0\":\"0\",\"1\":\"1\",\"8\":\"8\",\"9\":\"6\",\"6\":\"9\"}\n",
    "def findstrong(n):\n",
    "    return findstrongrec(n,n)\n",
    "def findstrongrec(n,k):\n",
    "    if k==0:\n",
    "        return ['']\n",
    "    elif k==1:\n",
    "        return ['0','1','8']\n",
    "    result=[]\n",
    "    for num in findstrongrec(n,k-2):\n",
    "        for keys,values in mydict.items():\n",
    "            if n!=k or keys!='0':\n",
    "                result.append(keys+num+values)\n",
    "    return result"
   ]
  },
  {
   "cell_type": "code",
   "execution_count": 55,
   "metadata": {},
   "outputs": [
    {
     "data": {
      "text/plain": [
       "['1001',\n",
       " '8008',\n",
       " '9006',\n",
       " '6009',\n",
       " '1111',\n",
       " '8118',\n",
       " '9116',\n",
       " '6119',\n",
       " '1881',\n",
       " '8888',\n",
       " '9886',\n",
       " '6889',\n",
       " '1961',\n",
       " '8968',\n",
       " '9966',\n",
       " '6969',\n",
       " '1691',\n",
       " '8698',\n",
       " '9696',\n",
       " '6699']"
      ]
     },
     "execution_count": 55,
     "metadata": {},
     "output_type": "execute_result"
    }
   ],
   "source": [
    "findstrong(4)\n"
   ]
  },
  {
   "cell_type": "code",
   "execution_count": null,
   "metadata": {},
   "outputs": [],
   "source": [
    "#248\n"
   ]
  },
  {
   "cell_type": "code",
   "execution_count": 58,
   "metadata": {},
   "outputs": [],
   "source": [
    "#leetcode 2\n",
    "class ListNode():\n",
    "    def __init__(self,val=0,next=None):\n",
    "        self.val=val\n",
    "        self.next=None\n",
    "def add2num(l1:ListNode,l2:ListNode)->ListNode:\n",
    "    result=ListNode(val=0)\n",
    "    result_tail=result\n",
    "    carry=0\n",
    "    while any([l1,l2,carry]):\n",
    "        val1=l1.val if l1 else 0\n",
    "        val2=l2.val if l2 else 0\n",
    "        carry, out=divmod(val1+val2+carry,10)\n",
    "        \n",
    "        result_tail.next=ListNode(val=out)\n",
    "        result_tail=result_tail.next\n",
    "        l1=l1.next if l1 else None\n",
    "        l2=l2.next if l2 else None\n",
    "    return result.next\n",
    "    \n",
    "        "
   ]
  },
  {
   "cell_type": "code",
   "execution_count": 59,
   "metadata": {},
   "outputs": [],
   "source": [
    "# Storage opt\n",
    "def opt(n,m,h,v):\n",
    "    hc=set(h)\n",
    "    vc=set(v)\n",
    "    \n",
    "    maxh=1\n",
    "    preh=1\n",
    "    \n",
    "    for i in range(1,n+1):\n",
    "        if i in hc:\n",
    "            preh+=1\n",
    "        else:\n",
    "            preh=1\n",
    "        maxh=max(maxh,preh)\n",
    "    \n",
    "    maxw=1\n",
    "    prew=1\n",
    "    for j in range(1,m+1):\n",
    "        if j in vc:\n",
    "            prew+=1\n",
    "        else:\n",
    "            prew=1\n",
    "        maxw=max(maxw,prew)\n",
    "    \n",
    "    return maxh*maxw"
   ]
  },
  {
   "cell_type": "code",
   "execution_count": 60,
   "metadata": {},
   "outputs": [],
   "source": [
    "def merge(arr,temp_arr,left,mid,right):\n",
    "    i=left\n",
    "    j=mid+1\n",
    "    k=left\n",
    "    s_count=0\n",
    "    while i<=mid and j<=right:\n",
    "        if arr[i]<=arr[j]:\n",
    "            temp_arr[k]=arr[i]\n",
    "            k+=1\n",
    "            i+=1\n",
    "        else:\n",
    "            temp_arr[k]=arr[j]\n",
    "            s_count+=mid-i+1\n",
    "            k+=1\n",
    "            j+=1\n",
    "    \n",
    "    while i<=mid:\n",
    "        temp_arr[k]=arr[i]\n",
    "        k+=1\n",
    "        i+=1\n",
    "    \n",
    "    while j<=right:\n",
    "        temp_arr[k]=arr[j]\n",
    "        k+=1\n",
    "        j+=1\n",
    "    \n",
    "    for v in range(left,right+1):\n",
    "        arr[v]=temp_arr[v]\n",
    "    return s_count\n",
    "\n",
    "def mergesort(arr,temp_arr,left,right):\n",
    "    s_count=0\n",
    "    if left<right:\n",
    "        mid=(left+right)//2\n",
    "        s_count+=merge(arr,temp_arr,left,mid)\n",
    "        s_count+=merge(arr,temp_arr,mid+1,right)\n",
    "        s_count+=merge(arr,temp_arr,left,mid,right)\n",
    "    return s_count\n",
    "\n",
    "def merge_main(arr,n):\n",
    "    temp_arr=[0]*n\n",
    "    return mergesort(arr,temp_arr,0,n-1)"
   ]
  },
  {
   "cell_type": "code",
   "execution_count": 61,
   "metadata": {},
   "outputs": [],
   "source": [
    "def add_make_valid(s:str)->int:\n",
    "    left=0\n",
    "    right=0\n",
    "    for i in s:\n",
    "        if i==\"(\":\n",
    "            right+=1\n",
    "        elif right>0:\n",
    "            right-=1\n",
    "        else:\n",
    "            left+=1\n",
    "    return left+right\n",
    "        "
   ]
  },
  {
   "cell_type": "code",
   "execution_count": 64,
   "metadata": {},
   "outputs": [
    {
     "data": {
      "text/plain": [
       "5"
      ]
     },
     "execution_count": 64,
     "metadata": {},
     "output_type": "execute_result"
    }
   ],
   "source": [
    "add_make_valid(\"())))((\")"
   ]
  },
  {
   "cell_type": "code",
   "execution_count": null,
   "metadata": {},
   "outputs": [],
   "source": []
  }
 ],
 "metadata": {
  "kernelspec": {
   "display_name": "Python 3",
   "language": "python",
   "name": "python3"
  },
  "language_info": {
   "codemirror_mode": {
    "name": "ipython",
    "version": 3
   },
   "file_extension": ".py",
   "mimetype": "text/x-python",
   "name": "python",
   "nbconvert_exporter": "python",
   "pygments_lexer": "ipython3",
   "version": "3.7.4"
  }
 },
 "nbformat": 4,
 "nbformat_minor": 2
}
