{
 "cells": [
  {
   "cell_type": "code",
   "execution_count": 1,
   "metadata": {},
   "outputs": [],
   "source": [
    "import pandas as pd\n",
    "import numpy as np\n",
    "import time"
   ]
  },
  {
   "cell_type": "code",
   "execution_count": 5,
   "metadata": {},
   "outputs": [],
   "source": [
    "#248\n",
    "#looked upside down the same\n",
    "#01869\n",
    "def is_upsidedown(num:str)->bool:\n",
    "    mydict={\"0\":\"0\",\"1\":\"1\",\"8\":\"8\",\"9\":\"6\",\"6\":\"9\"}\n",
    "    for i in range(len(num)//2+1):\n",
    "        if mydict[num[i]]!=num[len(num)-i-1]:\n",
    "            return False\n",
    "    return True"
   ]
  },
  {
   "cell_type": "code",
   "execution_count": 10,
   "metadata": {},
   "outputs": [
    {
     "data": {
      "text/plain": [
       "True"
      ]
     },
     "execution_count": 10,
     "metadata": {},
     "output_type": "execute_result"
    }
   ],
   "source": [
    "is_upsidedown(\"8698\")"
   ]
  },
  {
   "cell_type": "code",
   "execution_count": 48,
   "metadata": {},
   "outputs": [
    {
     "ename": "SyntaxError",
     "evalue": "invalid syntax (<ipython-input-48-5a9a2d47b550>, line 19)",
     "output_type": "error",
     "traceback": [
      "\u001b[1;36m  File \u001b[1;32m\"<ipython-input-48-5a9a2d47b550>\"\u001b[1;36m, line \u001b[1;32m19\u001b[0m\n\u001b[1;33m    return [i if i[0]!=0 for i in res]\u001b[0m\n\u001b[1;37m                           ^\u001b[0m\n\u001b[1;31mSyntaxError\u001b[0m\u001b[1;31m:\u001b[0m invalid syntax\n"
     ]
    }
   ],
   "source": [
    "#247\n",
    "def find_all_upsidedown(m,n):\n",
    "    if m==0:\n",
    "        return []\n",
    "    elif m==1:\n",
    "        return[\"0\",\"1\",\"8\"]\n",
    "    elif m==2:\n",
    "        return[\"11\",\"88\",\"96\",\"69\"]\n",
    "\n",
    "    temp=find_all_upsidedown(m-2,n)\n",
    "    res=[]\n",
    "    for i in temp:\n",
    "\n",
    "        res.append(\"0\"+i+\"0\")\n",
    "        res.append(\"8\"+i+\"8\")\n",
    "        res.append(\"1\"+i+\"1\")\n",
    "        res.append(\"6\"+i+\"9\")\n",
    "        res.append(\"9\"+i+\"6\")\n",
    "    return [i if i[0]!=0 for i in res]\n",
    "            \n",
    "\n",
    "def find_all_upsidedown_main(n:int)->list:\n",
    "    return find_all_upsidedown(n,n)"
   ]
  },
  {
   "cell_type": "code",
   "execution_count": 49,
   "metadata": {},
   "outputs": [
    {
     "data": {
      "text/plain": [
       "['0110',\n",
       " '8118',\n",
       " '1111',\n",
       " '6119',\n",
       " '9116',\n",
       " '0880',\n",
       " '8888',\n",
       " '1881',\n",
       " '6889',\n",
       " '9886',\n",
       " '0960',\n",
       " '8968',\n",
       " '1961',\n",
       " '6969',\n",
       " '9966',\n",
       " '0690',\n",
       " '8698',\n",
       " '1691',\n",
       " '6699',\n",
       " '9696']"
      ]
     },
     "execution_count": 49,
     "metadata": {},
     "output_type": "execute_result"
    }
   ],
   "source": [
    "find_all_upsidedown_main(4)"
   ]
  },
  {
   "cell_type": "code",
   "execution_count": null,
   "metadata": {},
   "outputs": [],
   "source": []
  }
 ],
 "metadata": {
  "kernelspec": {
   "display_name": "Python 3",
   "language": "python",
   "name": "python3"
  },
  "language_info": {
   "codemirror_mode": {
    "name": "ipython",
    "version": 3
   },
   "file_extension": ".py",
   "mimetype": "text/x-python",
   "name": "python",
   "nbconvert_exporter": "python",
   "pygments_lexer": "ipython3",
   "version": "3.7.4"
  }
 },
 "nbformat": 4,
 "nbformat_minor": 2
}
