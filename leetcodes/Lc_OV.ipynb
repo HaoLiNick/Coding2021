{
 "cells": [
  {
   "cell_type": "code",
   "execution_count": 1,
   "metadata": {},
   "outputs": [],
   "source": [
    "import pandas as pd\n",
    "import numpy as np\n",
    "import time"
   ]
  },
  {
   "cell_type": "code",
   "execution_count": 5,
   "metadata": {},
   "outputs": [],
   "source": [
    "#248\n",
    "#looked upside down the same\n",
    "#01869\n",
    "def is_upsidedown(num:str)->bool:\n",
    "    mydict={\"0\":\"0\",\"1\":\"1\",\"8\":\"8\",\"9\":\"6\",\"6\":\"9\"}\n",
    "    for i in range(len(num)//2+1):\n",
    "        if mydict[num[i]]!=num[len(num)-i-1]:\n",
    "            return False\n",
    "    return True"
   ]
  },
  {
   "cell_type": "code",
   "execution_count": 10,
   "metadata": {},
   "outputs": [
    {
     "data": {
      "text/plain": [
       "True"
      ]
     },
     "execution_count": 10,
     "metadata": {},
     "output_type": "execute_result"
    }
   ],
   "source": [
    "is_upsidedown(\"8698\")"
   ]
  },
  {
   "cell_type": "code",
   "execution_count": 85,
   "metadata": {},
   "outputs": [],
   "source": [
    "#247\n",
    "def find_all_upsidedown(m,n):\n",
    "    if m==0:\n",
    "        return [\"\"]\n",
    "    elif m==1:\n",
    "        return[\"0\",\"1\",\"8\"]\n",
    "    #elif m==2:\n",
    "    #    return[\"11\",\"88\",\"96\",\"69\"]\n",
    "\n",
    "    temp=find_all_upsidedown(m-2,n)\n",
    "    res=[]\n",
    "    for i in temp:\n",
    "\n",
    "        res.append(\"0\"+i+\"0\")\n",
    "        res.append(\"8\"+i+\"8\")\n",
    "        res.append(\"1\"+i+\"1\")\n",
    "        res.append(\"6\"+i+\"9\")\n",
    "        res.append(\"9\"+i+\"6\")\n",
    "    \n",
    "    return list(filter(lambda x:x[0]!='0',res))\n",
    "            \n",
    "\n",
    "def find_all_upsidedown_main(n:int)->list:\n",
    "    return find_all_upsidedown(n,n)"
   ]
  },
  {
   "cell_type": "code",
   "execution_count": 89,
   "metadata": {},
   "outputs": [
    {
     "data": {
      "text/plain": [
       "['808',\n",
       " '101',\n",
       " '609',\n",
       " '906',\n",
       " '818',\n",
       " '111',\n",
       " '619',\n",
       " '916',\n",
       " '888',\n",
       " '181',\n",
       " '689',\n",
       " '986']"
      ]
     },
     "execution_count": 89,
     "metadata": {},
     "output_type": "execute_result"
    }
   ],
   "source": [
    "find_all_upsidedown_main(3)"
   ]
  },
  {
   "cell_type": "code",
   "execution_count": 72,
   "metadata": {},
   "outputs": [],
   "source": [
    "mydict={\"0\":\"0\",\"1\":\"1\",\"8\":\"8\",\"9\":\"6\",\"6\":\"9\"}\n",
    "def findstrong(n):\n",
    "    return findstrongrec(n,n)\n",
    "def findstrongrec(n,k):\n",
    "    if k==0:\n",
    "        return ['']\n",
    "    elif k==1:\n",
    "        return ['0','1','8']\n",
    "    result=[]\n",
    "    for num in findstrongrec(n,k-2):\n",
    "        for k,v in mydict.items():\n",
    "            if n!=k or k!='0':\n",
    "                result.append(k+num+v)\n",
    "    return result"
   ]
  },
  {
   "cell_type": "code",
   "execution_count": 78,
   "metadata": {},
   "outputs": [],
   "source": [
    "a=[1,2,3]"
   ]
  },
  {
   "cell_type": "code",
   "execution_count": 79,
   "metadata": {},
   "outputs": [],
   "source": [
    "b=[]"
   ]
  },
  {
   "cell_type": "code",
   "execution_count": 80,
   "metadata": {},
   "outputs": [],
   "source": [
    "a.append(b)"
   ]
  },
  {
   "cell_type": "code",
   "execution_count": 81,
   "metadata": {},
   "outputs": [
    {
     "data": {
      "text/plain": [
       "[1, 2, 3, []]"
      ]
     },
     "execution_count": 81,
     "metadata": {},
     "output_type": "execute_result"
    }
   ],
   "source": [
    "a"
   ]
  },
  {
   "cell_type": "code",
   "execution_count": 84,
   "metadata": {},
   "outputs": [
    {
     "name": "stdout",
     "output_type": "stream",
     "text": [
      "\n",
      "<class 'str'>\n"
     ]
    }
   ],
   "source": [
    "for i in [\"\"]:\n",
    "    print(i)\n",
    "    print(type(i))"
   ]
  },
  {
   "cell_type": "code",
   "execution_count": null,
   "metadata": {},
   "outputs": [],
   "source": []
  }
 ],
 "metadata": {
  "kernelspec": {
   "display_name": "Python 3",
   "language": "python",
   "name": "python3"
  },
  "language_info": {
   "codemirror_mode": {
    "name": "ipython",
    "version": 3
   },
   "file_extension": ".py",
   "mimetype": "text/x-python",
   "name": "python",
   "nbconvert_exporter": "python",
   "pygments_lexer": "ipython3",
   "version": "3.7.4"
  }
 },
 "nbformat": 4,
 "nbformat_minor": 2
}
