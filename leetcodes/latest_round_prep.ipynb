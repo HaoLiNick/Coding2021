{
 "cells": [
  {
   "cell_type": "code",
   "execution_count": null,
   "metadata": {},
   "outputs": [],
   "source": [
    "\n",
    "class Node:\n",
    "    def __init__(self, val):\n",
    "        self.l_child = None\n",
    "        self.r_child = None\n",
    "        self.data = val\n",
    "\n",
    "    def binary_insert(root, node):\n",
    "        if root is None:\n",
    "            root = node\n",
    "        else:\n",
    "            if root.data > node.data:\n",
    "                if root.l_child is None:\n",
    "                    root.l_child = node\n",
    "                else:\n",
    "                    binary_insert(root.l_child, node)\n",
    "            else:\n",
    "                if root.r_child is None:\n",
    "                    root.r_child = node\n",
    "                else:\n",
    "                    binary_insert(root.r_child, node)\n",
    "\n",
    "    def in_order_print(root):\n",
    "        if not root:\n",
    "            return\n",
    "        in_order_print(root.l_child)\n",
    "        print root.data\n",
    "        in_order_print(root.r_child)\n",
    "\n",
    "    def pre_order_print(root):\n",
    "        if not root:\n",
    "            return        \n",
    "        print root.data\n",
    "        pre_order_print(root.l_child)\n",
    "        pre_order_print(root.r_child)   "
   ]
  }
 ],
 "metadata": {
  "kernelspec": {
   "display_name": "Python 3",
   "language": "python",
   "name": "python3"
  },
  "language_info": {
   "codemirror_mode": {
    "name": "ipython",
    "version": 3
   },
   "file_extension": ".py",
   "mimetype": "text/x-python",
   "name": "python",
   "nbconvert_exporter": "python",
   "pygments_lexer": "ipython3",
   "version": "3.7.4"
  }
 },
 "nbformat": 4,
 "nbformat_minor": 2
}
