{
 "cells": [
  {
   "cell_type": "code",
   "execution_count": 10,
   "metadata": {},
   "outputs": [],
   "source": [
    "\n",
    "def reverse_iter(data):\n",
    "    data_type=type(data)\n",
    "    data=list(data)\n",
    "    starter=0\n",
    "    ender=len(data)-1\n",
    "    \n",
    "    while ender>starter:\n",
    "        data[starter],data[ender]=data[ender],data[starter]\n",
    "        starter+=1\n",
    "        ender-=1\n",
    "    \n",
    "    if data_type==str:\n",
    "        return ''.join(data)\n",
    "    \n",
    "    else:\n",
    "        return data_type(data)\n",
    "    "
   ]
  },
  {
   "cell_type": "code",
   "execution_count": 17,
   "metadata": {},
   "outputs": [
    {
     "data": {
      "text/plain": [
       "{1, 2, 3, 4}"
      ]
     },
     "execution_count": 17,
     "metadata": {},
     "output_type": "execute_result"
    }
   ],
   "source": [
    "reverse_iter(set([1,2,3,4]))"
   ]
  },
  {
   "cell_type": "code",
   "execution_count": 18,
   "metadata": {},
   "outputs": [],
   "source": [
    "#s[::-1]"
   ]
  },
  {
   "cell_type": "code",
   "execution_count": 19,
   "metadata": {},
   "outputs": [],
   "source": [
    "# leetcode 49 group anagrams"
   ]
  },
  {
   "cell_type": "code",
   "execution_count": 37,
   "metadata": {},
   "outputs": [],
   "source": [
    "from collections import defaultdict\n",
    "def anagrams(stringlist):\n",
    "    c=defaultdict(list)\n",
    "    for i in range(len(stringlist)):\n",
    "        c[''.join(sorted(stringlist[i]))].append(i)\n",
    "    #return c\n",
    "    ans=[]\n",
    "    for v in c.values():\n",
    "        ans.append([stringlist[i] for i in v])\n",
    "    return ans\n",
    "# Time complexity is len(stringlist)*nlogn, n is the length of a string in the string list\n",
    "# Space complexity is sum of all characters in the string list\n"
   ]
  },
  {
   "cell_type": "code",
   "execution_count": 38,
   "metadata": {},
   "outputs": [
    {
     "data": {
      "text/plain": [
       "[['eat', 'tea', 'ate'], ['tan', 'nat'], ['bat']]"
      ]
     },
     "execution_count": 38,
     "metadata": {},
     "output_type": "execute_result"
    }
   ],
   "source": [
    "anagrams([\"eat\",\"tea\",\"tan\",\"ate\",\"nat\",\"bat\"])"
   ]
  },
  {
   "cell_type": "code",
   "execution_count": null,
   "metadata": {},
   "outputs": [],
   "source": []
  },
  {
   "cell_type": "code",
   "execution_count": 1,
   "metadata": {},
   "outputs": [],
   "source": [
    "def topological_sort(G,nbunch=None,reverse=False):\n",
    "    if not G.is_directed():\n",
    "        raise nx.NextworkError()\n",
    "    seen=set()\n",
    "    order=[]\n",
    "    explored=set()\n",
    "    \n",
    "    if nbunch is None:\n",
    "        nbunch=G.nodes_iter()#nbunch is the nodes container\n",
    "    \n",
    "    for v in nbunch:\n",
    "        if v in explored:\n",
    "            continue\n",
    "        fringe=[v]\n",
    "        while fringe: #while fringe is not empty\n",
    "            w=fringe[-1]\n",
    "            if w in explored:\n",
    "                fringe.pop()\n",
    "                continue\n",
    "            seen.add(w)\n",
    "            new_nodes=[]\n",
    "            for w in G[w]:\n",
    "                if n not in explored:\n",
    "                    if n in seen:\n",
    "                        raise cycle_error\n",
    "                    new_nodes.append(n)\n",
    "            if new_nodes:\n",
    "                fringe.extend(new_nodes)\n",
    "            else:\n",
    "                explored.add(w)\n",
    "                order.append(w)\n",
    "                fringe.pop()\n",
    "            \n",
    "            "
   ]
  },
  {
   "cell_type": "code",
   "execution_count": 2,
   "metadata": {},
   "outputs": [],
   "source": [
    "class MaxStack():\n",
    "    def __init__(self):\n",
    "        self.main_stack=[]\n",
    "        self.max_stack=[]\n",
    "    def push(self,data):\n",
    "        self.main_stack.append(data)\n",
    "        if len(self.main_stack)==1:\n",
    "            self.max_stack.append(data)\n",
    "            return"
   ]
  },
  {
   "cell_type": "code",
   "execution_count": 8,
   "metadata": {},
   "outputs": [],
   "source": [
    "def partition(arr,low,high):\n",
    "    i=low-1# index of smaller element\n",
    "    pivot=arr[high]\n",
    "    for j in range(low,high):\n",
    "        if arr[j]<=pivot:\n",
    "            i+=1\n",
    "            arr[i],arr[j]=arr[j],arr[i]\n",
    "    arr[i+1],arr[high]=arr[high],arr[i+1]\n",
    "    return i+1\n",
    "def quick_sort(arr,low,high):\n",
    "    if low<high:\n",
    "        pi=partition(arr,low,high)\n",
    "        quick_sort(arr,low,pi-1)\n",
    "        quick_sort(arr,pi+1,high)\n",
    "a=[1,2,3,4,12,3,2,0,0]\n",
    "quick_sort(a,0,len)"
   ]
  },
  {
   "cell_type": "code",
   "execution_count": 9,
   "metadata": {},
   "outputs": [],
   "source": []
  },
  {
   "cell_type": "code",
   "execution_count": 10,
   "metadata": {},
   "outputs": [],
   "source": [
    "a"
   ]
  },
  {
   "cell_type": "code",
   "execution_count": null,
   "metadata": {},
   "outputs": [],
   "source": []
  }
 ],
 "metadata": {
  "kernelspec": {
   "display_name": "Python 3",
   "language": "python",
   "name": "python3"
  },
  "language_info": {
   "codemirror_mode": {
    "name": "ipython",
    "version": 3
   },
   "file_extension": ".py",
   "mimetype": "text/x-python",
   "name": "python",
   "nbconvert_exporter": "python",
   "pygments_lexer": "ipython3",
   "version": "3.7.4"
  }
 },
 "nbformat": 4,
 "nbformat_minor": 2
}
