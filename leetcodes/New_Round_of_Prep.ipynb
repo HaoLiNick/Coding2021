{
 "cells": [
  {
   "cell_type": "code",
   "execution_count": 10,
   "metadata": {},
   "outputs": [],
   "source": [
    "def reverse_iter(data):\n",
    "    data_type=type(data)\n",
    "    data=list(data)\n",
    "    starter=0\n",
    "    ender=len(data)-1\n",
    "    \n",
    "    while ender>starter:\n",
    "        data[starter],data[ender]=data[ender],data[starter]\n",
    "        starter+=1\n",
    "        ender-=1\n",
    "    \n",
    "    if data_type==str:\n",
    "        return ''.join(data)\n",
    "    \n",
    "    else:\n",
    "        return data_type(data)\n",
    "    "
   ]
  },
  {
   "cell_type": "code",
   "execution_count": 17,
   "metadata": {},
   "outputs": [
    {
     "data": {
      "text/plain": [
       "{1, 2, 3, 4}"
      ]
     },
     "execution_count": 17,
     "metadata": {},
     "output_type": "execute_result"
    }
   ],
   "source": [
    "reverse_iter(set([1,2,3,4]))"
   ]
  },
  {
   "cell_type": "code",
   "execution_count": 18,
   "metadata": {},
   "outputs": [],
   "source": [
    "#s[::-1]"
   ]
  },
  {
   "cell_type": "code",
   "execution_count": 19,
   "metadata": {},
   "outputs": [],
   "source": [
    "# leetcode 49 group anagrams"
   ]
  },
  {
   "cell_type": "code",
   "execution_count": 37,
   "metadata": {},
   "outputs": [],
   "source": [
    "from collections import defaultdict\n",
    "def anagrams(stringlist):\n",
    "    c=defaultdict(list)\n",
    "    for i in range(len(stringlist)):\n",
    "        c[''.join(sorted(stringlist[i]))].append(i)\n",
    "    #return c\n",
    "    ans=[]\n",
    "    for v in c.values():\n",
    "        ans.append([stringlist[i] for i in v])\n",
    "    return ans\n",
    "# Time complexity is len(stringlist)*nlogn, n is the length of a string in the string list\n",
    "# Space complexity is sum of all characters in the string list\n"
   ]
  },
  {
   "cell_type": "code",
   "execution_count": 38,
   "metadata": {},
   "outputs": [
    {
     "data": {
      "text/plain": [
       "[['eat', 'tea', 'ate'], ['tan', 'nat'], ['bat']]"
      ]
     },
     "execution_count": 38,
     "metadata": {},
     "output_type": "execute_result"
    }
   ],
   "source": [
    "anagrams([\"eat\",\"tea\",\"tan\",\"ate\",\"nat\",\"bat\"])"
   ]
  },
  {
   "cell_type": "code",
   "execution_count": null,
   "metadata": {},
   "outputs": [],
   "source": []
  },
  {
   "cell_type": "code",
   "execution_count": null,
   "metadata": {},
   "outputs": [],
   "source": []
  },
  {
   "cell_type": "code",
   "execution_count": null,
   "metadata": {},
   "outputs": [],
   "source": []
  }
 ],
 "metadata": {
  "kernelspec": {
   "display_name": "Python 3",
   "language": "python",
   "name": "python3"
  },
  "language_info": {
   "codemirror_mode": {
    "name": "ipython",
    "version": 3
   },
   "file_extension": ".py",
   "mimetype": "text/x-python",
   "name": "python",
   "nbconvert_exporter": "python",
   "pygments_lexer": "ipython3",
   "version": "3.7.4"
  }
 },
 "nbformat": 4,
 "nbformat_minor": 2
}
