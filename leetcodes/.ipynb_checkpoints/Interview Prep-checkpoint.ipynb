{
 "cells": [
  {
   "cell_type": "code",
   "execution_count": 3,
   "metadata": {},
   "outputs": [],
   "source": [
    "#sorted dict in python\n",
    "# Tree Map\n",
    "x=dict()\n",
    "dict(sorted(x.items(),key=lambda item: item[1]))\n",
    "\n",
    "import collections\n",
    "sorted_x=sorted(x.items(),key=lambda item: item[1])\n",
    "sorted_dict=collections.OrderedDict(sorted_x)"
   ]
  },
  {
   "cell_type": "code",
   "execution_count": 1,
   "metadata": {},
   "outputs": [],
   "source": [
    "# Most Common Words\n",
    "def getInvCount(arr,n):\n",
    "    inv_count=0\n",
    "    for i in range(n):\n",
    "        for j in range(i+1,n):\n",
    "            if (arr[i]>arr[j]):\n",
    "                inv_count+=1\n",
    "    return inv_count"
   ]
  },
  {
   "cell_type": "code",
   "execution_count": 2,
   "metadata": {},
   "outputs": [],
   "source": [
    "def mergesort(arr,n):\n",
    "    temp=[0]*n\n",
    "    return _mergesort(arr,temp,0,n-1)\n",
    "\n",
    "def _mergesort(arr,temp_arr,left,right):\n",
    "    inv_count=0\n",
    "    if left<right:\n",
    "        mid=(left+right)//2\n",
    "        inv_count+=_mergesort(arr,temp_arr,left,mid)\n",
    "        inv_count+=_mergesort(arr,temp_arr,mid+1,right)\n",
    "        inv_count+=merge(arr,temp_arr,left,mid,right)\n",
    "    return inv_count\n",
    "\n",
    "def merge(arr,temp_arr,left,mid,right):\n",
    "    i=left\n",
    "    j=mid+1\n",
    "    k=left\n",
    "    inv_count=0\n",
    "    while i<=mid and j<=right:\n",
    "        if arr[i]<=arr[j]:\n",
    "            temp_arr[k]=arr[i]\n",
    "            k+=1\n",
    "            i+=1\n",
    "        else:\n",
    "            temp_arr[k]=arr[j]\n",
    "            inv_count+=(mid-i+1)\n",
    "            k+=1\n",
    "            j+=1\n",
    "    while i<=mid:\n",
    "        temp_arr[k]=arr[i]\n",
    "        k+=1\n",
    "        i+=1\n",
    "    while j<=right:\n",
    "        temp_arr[k]=arr[j]\n",
    "        k+=1\n",
    "        j+=1\n",
    "    for loop_var in range(left,right+1):\n",
    "        arr[loop_var]=temp_arr[loop_var]\n",
    "    return inv_count"
   ]
  },
  {
   "cell_type": "code",
   "execution_count": 3,
   "metadata": {},
   "outputs": [
    {
     "data": {
      "text/plain": [
       "5"
      ]
     },
     "execution_count": 3,
     "metadata": {},
     "output_type": "execute_result"
    }
   ],
   "source": [
    "arr=[1,20,6,4,5]\n",
    "n=len(arr)\n",
    "mergesort(arr,n)"
   ]
  },
  {
   "cell_type": "code",
   "execution_count": 7,
   "metadata": {},
   "outputs": [],
   "source": [
    "#optimize box weight\n",
    "def opt(arr:list)->list:\n",
    "    ans=[]\n",
    "    n=len(arr)\n",
    "    arr2=sorted(arr,reverse=True)\n",
    "    setA=0\n",
    "    for i in range(n):\n",
    "        j=i\n",
    "        setB=0\n",
    "        v=arr2[i]\n",
    "        setA+=v\n",
    "        ans.append(v)\n",
    "        while j<n:\n",
    "            setB+=arr2[j+1]\n",
    "            j+=1\n",
    "        if setA>=setB:\n",
    "            break\n",
    "    return ans"
   ]
  },
  {
   "cell_type": "code",
   "execution_count": 9,
   "metadata": {},
   "outputs": [],
   "source": [
    "def opt(arr):\n",
    "    arr.sort(reverse=True)\n",
    "    ans=[]\n",
    "    setA=0\n",
    "    for i in range(len(arr)):\n",
    "        \n",
    "        setA+=arr[i]\n",
    "        ans.append(arr[i])\n",
    "        \n",
    "        if sum(ans)>=sum(arr[i+1:]):\n",
    "            break\n",
    "    return ans\n",
    "        \n",
    "        "
   ]
  },
  {
   "cell_type": "code",
   "execution_count": 10,
   "metadata": {},
   "outputs": [
    {
     "data": {
      "text/plain": [
       "[5, 4]"
      ]
     },
     "execution_count": 10,
     "metadata": {},
     "output_type": "execute_result"
    }
   ],
   "source": [
    "opt([4,5,2,3,1,2])"
   ]
  },
  {
   "cell_type": "code",
   "execution_count": 11,
   "metadata": {},
   "outputs": [
    {
     "data": {
      "text/plain": [
       "[0]"
      ]
     },
     "execution_count": 11,
     "metadata": {},
     "output_type": "execute_result"
    }
   ],
   "source": [
    "opt([0,0,0])"
   ]
  },
  {
   "cell_type": "code",
   "execution_count": 13,
   "metadata": {},
   "outputs": [],
   "source": [
    "def storage_opt(n:int,m:int,h:list,v:list)->int:\n",
    "    hc=set(h)\n",
    "    vc=set(v)\n",
    "    maxh=1\n",
    "    prevh=1\n",
    "    for i in range(1,n+1):\n",
    "        if i in hc:\n",
    "            prevh+=1\n",
    "        else:\n",
    "            prevh=1\n",
    "        maxh=max(maxh,prevh)\n",
    "    maxw=1\n",
    "    prew=1\n",
    "    for j in range(1,m+1):\n",
    "        if j in vc:\n",
    "            prew+=1\n",
    "        else:\n",
    "            prew=1\n",
    "        maxw=max(maxw,prew)\n",
    "        \n",
    "    return maxh*maxw\n",
    "        "
   ]
  },
  {
   "cell_type": "code",
   "execution_count": 17,
   "metadata": {},
   "outputs": [
    {
     "data": {
      "text/plain": [
       "12"
      ]
     },
     "execution_count": 17,
     "metadata": {},
     "output_type": "execute_result"
    }
   ],
   "source": [
    "storage_opt(3,2,[1,2,3],[1,2])"
   ]
  },
  {
   "cell_type": "code",
   "execution_count": 18,
   "metadata": {},
   "outputs": [],
   "source": [
    "def two_sum(l1,l2):\n",
    "    result=ListNode(0)\n",
    "    result_tail=result\n",
    "    carry=0\n",
    "    \n",
    "    while l1 or l2 or carry:\n",
    "        val1=l1.val if l1 else 0\n",
    "        val2=l2.val if l2 else 0\n",
    "        carry, out=divmod(val1+val2+carry,10)"
   ]
  },
  {
   "cell_type": "code",
   "execution_count": 21,
   "metadata": {},
   "outputs": [],
   "source": [
    "class ListNode():\n",
    "    def __init__(self,x):\n",
    "        self.val=x\n",
    "        self.next=None\n",
    "        \n",
    "def two_sum(l1:ListNode,l2:ListNode)->ListNode:\n",
    "    result=ListNode(0)\n",
    "    result_tail=result\n",
    "    carry=0\n",
    "    \n",
    "    while any([l1,l2,carry]):\n",
    "        val1=l1.val if l1 else 0\n",
    "        val2=l2.val if l2 else 0\n",
    "        carry,out =divmod(val1+val2+carry,10)\n",
    "        result_tail.next=LisNode(out)\n",
    "        result_tail=result_tail.next\n",
    "        \n",
    "        l1=l1.next if l1 else None\n",
    "        l2=l2.next if l2 else None\n",
    "    return result.next\n"
   ]
  },
  {
   "cell_type": "code",
   "execution_count": null,
   "metadata": {},
   "outputs": [],
   "source": [
    "any"
   ]
  }
 ],
 "metadata": {
  "kernelspec": {
   "display_name": "Python 3",
   "language": "python",
   "name": "python3"
  },
  "language_info": {
   "codemirror_mode": {
    "name": "ipython",
    "version": 3
   },
   "file_extension": ".py",
   "mimetype": "text/x-python",
   "name": "python",
   "nbconvert_exporter": "python",
   "pygments_lexer": "ipython3",
   "version": "3.7.3"
  }
 },
 "nbformat": 4,
 "nbformat_minor": 2
}
