{
 "cells": [
  {
   "cell_type": "code",
   "execution_count": 10,
   "metadata": {},
   "outputs": [],
   "source": [
    "\n",
    "def reverse_iter(data):\n",
    "    data_type=type(data)\n",
    "    data=list(data)\n",
    "    starter=0\n",
    "    ender=len(data)-1\n",
    "    \n",
    "    while ender>starter:\n",
    "        data[starter],data[ender]=data[ender],data[starter]\n",
    "        starter+=1\n",
    "        ender-=1\n",
    "    \n",
    "    if data_type==str:\n",
    "        return ''.join(data)\n",
    "    \n",
    "    else:\n",
    "        return data_type(data)\n",
    "    "
   ]
  },
  {
   "cell_type": "code",
   "execution_count": 17,
   "metadata": {},
   "outputs": [
    {
     "data": {
      "text/plain": [
       "{1, 2, 3, 4}"
      ]
     },
     "execution_count": 17,
     "metadata": {},
     "output_type": "execute_result"
    }
   ],
   "source": [
    "reverse_iter(set([1,2,3,4]))"
   ]
  },
  {
   "cell_type": "code",
   "execution_count": 18,
   "metadata": {},
   "outputs": [],
   "source": [
    "#s[::-1]"
   ]
  },
  {
   "cell_type": "code",
   "execution_count": 19,
   "metadata": {},
   "outputs": [],
   "source": [
    "# leetcode 49 group anagrams"
   ]
  },
  {
   "cell_type": "code",
   "execution_count": 37,
   "metadata": {},
   "outputs": [],
   "source": [
    "from collections import defaultdict\n",
    "def anagrams(stringlist):\n",
    "    c=defaultdict(list)\n",
    "    for i in range(len(stringlist)):\n",
    "        c[''.join(sorted(stringlist[i]))].append(i)\n",
    "    #return c\n",
    "    ans=[]\n",
    "    for v in c.values():\n",
    "        ans.append([stringlist[i] for i in v])\n",
    "    return ans\n",
    "# Time complexity is len(stringlist)*nlogn, n is the length of a string in the string list\n",
    "# Space complexity is sum of all characters in the string list\n"
   ]
  },
  {
   "cell_type": "code",
   "execution_count": 38,
   "metadata": {},
   "outputs": [
    {
     "data": {
      "text/plain": [
       "[['eat', 'tea', 'ate'], ['tan', 'nat'], ['bat']]"
      ]
     },
     "execution_count": 38,
     "metadata": {},
     "output_type": "execute_result"
    }
   ],
   "source": [
    "anagrams([\"eat\",\"tea\",\"tan\",\"ate\",\"nat\",\"bat\"])"
   ]
  },
  {
   "cell_type": "code",
   "execution_count": null,
   "metadata": {},
   "outputs": [],
   "source": []
  },
  {
   "cell_type": "code",
   "execution_count": 1,
   "metadata": {},
   "outputs": [],
   "source": [
    "def topological_sort(G,nbunch=None,reverse=False):\n",
    "    if not G.is_directed():\n",
    "        raise nx.NextworkError()\n",
    "    seen=set()\n",
    "    order=[]\n",
    "    explored=set()\n",
    "    \n",
    "    if nbunch is None:\n",
    "        nbunch=G.nodes_iter()#nbunch is the nodes container\n",
    "    \n",
    "    for v in nbunch:\n",
    "        if v in explored:\n",
    "            continue\n",
    "        fringe=[v]\n",
    "        while fringe: #while fringe is not empty\n",
    "            w=fringe[-1]\n",
    "            if w in explored:\n",
    "                fringe.pop()\n",
    "                continue\n",
    "            seen.add(w)\n",
    "            new_nodes=[]\n",
    "            for w in G[w]:\n",
    "                if n not in explored:\n",
    "                    if n in seen:\n",
    "                        raise cycle_error\n",
    "                    new_nodes.append(n)\n",
    "            if new_nodes:\n",
    "                fringe.extend(new_nodes)\n",
    "            else:\n",
    "                explored.add(w)\n",
    "                order.append(w)\n",
    "                fringe.pop()\n",
    "            \n",
    "            "
   ]
  },
  {
   "cell_type": "code",
   "execution_count": 2,
   "metadata": {},
   "outputs": [],
   "source": [
    "class MaxStack():\n",
    "    def __init__(self):\n",
    "        self.main_stack=[]\n",
    "        self.max_stack=[]\n",
    "    def push(self,data):\n",
    "        self.main_stack.append(data)\n",
    "        if len(self.main_stack)==1:\n",
    "            self.max_stack.append(data)\n",
    "            return"
   ]
  },
  {
   "cell_type": "code",
   "execution_count": 11,
   "metadata": {},
   "outputs": [],
   "source": [
    "def partition(arr,low,high):\n",
    "    i=low-1# index of smaller element\n",
    "    pivot=arr[high]\n",
    "    for j in range(low,high):\n",
    "        if arr[j]<=pivot:\n",
    "            i+=1\n",
    "            arr[i],arr[j]=arr[j],arr[i]\n",
    "    arr[i+1],arr[high]=arr[high],arr[i+1]\n",
    "    return i+1\n",
    "def quick_sort(arr,low,high):\n",
    "    if low<high:\n",
    "        pi=partition(arr,low,high)\n",
    "        quick_sort(arr,low,pi-1)\n",
    "        quick_sort(arr,pi+1,high)\n",
    "a=[1,2,3,4,12,3,2,0,0]\n",
    "quick_sort(a,0,len(a)-1)"
   ]
  },
  {
   "cell_type": "code",
   "execution_count": 12,
   "metadata": {},
   "outputs": [
    {
     "data": {
      "text/plain": [
       "[0, 0, 1, 2, 2, 3, 3, 4, 12]"
      ]
     },
     "execution_count": 12,
     "metadata": {},
     "output_type": "execute_result"
    }
   ],
   "source": [
    "a"
   ]
  },
  {
   "cell_type": "code",
   "execution_count": 10,
   "metadata": {},
   "outputs": [],
   "source": [
    "a"
   ]
  },
  {
   "cell_type": "code",
   "execution_count": 13,
   "metadata": {},
   "outputs": [],
   "source": [
    "def merge_sort(arr):\n",
    "    if len(arr)>1:\n",
    "        mid=len(arr)//2\n",
    "        L=arr[:mid]\n",
    "        R=arr[mid:]\n",
    "        merge_sort(L)\n",
    "        merge_sort(R)\n",
    "        \n",
    "        i,j,k=0,0,0\n",
    "        while i<len(L) and j<len(R):\n",
    "            if L[i]<R[j]:\n",
    "                arr[k]=L[i]\n",
    "                i+=1\n",
    "            else:\n",
    "                arr[k]=R[j]\n",
    "                j+=1\n",
    "            k+=1\n",
    "        while i<len(L):\n",
    "            arr[k]=L[i]\n",
    "            i+=1\n",
    "            k+=1\n",
    "        while j<len(R):\n",
    "            arr[k]=R[j]\n",
    "            j+=1\n",
    "            k+=1"
   ]
  },
  {
   "cell_type": "code",
   "execution_count": 14,
   "metadata": {},
   "outputs": [
    {
     "data": {
      "text/plain": [
       "[0, 0, 1, 2, 2, 3, 3, 4, 12]"
      ]
     },
     "execution_count": 14,
     "metadata": {},
     "output_type": "execute_result"
    }
   ],
   "source": [
    "a=[1,2,3,4,12,3,2,0,0]\n",
    "merge_sort(a)\n",
    "a"
   ]
  },
  {
   "cell_type": "code",
   "execution_count": 17,
   "metadata": {},
   "outputs": [],
   "source": [
    "import random\n",
    "class Card:\n",
    "    def __init__(self,suit,value):\n",
    "        self.suit=suit\n",
    "        self.value=value\n",
    "    def __repr__(self):\n",
    "        return \" of \".join((self.value,self.suit))\n",
    "class Deck:\n",
    "    def __init__(self):\n",
    "        self.cards=[Card(s,v) for s in [\"Spades\",\"Clubs\",\"Hearts\",\"Diamonds\"] for v in [\"A\",\"1\",\"2\",\"3\",\"4\",\"5\",\"6\",\"7\",\"8\",\"9\",\"10\",\"J\",\"Q\",\"K\"]]\n",
    "    \n",
    "    def shuffle(self):\n",
    "        if len(self):\n",
    "            random.shuffle(self.cards)\n",
    "    def deal(self):\n",
    "        if len(self.cards)>1:\n",
    "            return self.cards.pop(0)\n",
    "class Hand:\n",
    "    def __init__(self,dealer=False):\n",
    "        self.dealer=dealer\n",
    "        self.cards=[]\n",
    "        self.value=0\n",
    "    def add_card(self,card):\n",
    "        self.cards.append(card)\n",
    "    \n",
    "    def calculate_value(self):\n",
    "        self.value=0\n",
    "        has_ace=False\n",
    "        for card in self.cards:\n",
    "            if card.value.isnumeric():\n",
    "                self.value+=int(card.value)\n",
    "            else:\n",
    "                if card.value==\"A\":\n",
    "                    has_ace=True\n",
    "                    self.value+=11\n",
    "                else:\n",
    "                    self.value+=10\n",
    "        if has_ace and self.value>21:\n",
    "            self.value-=10\n",
    "    def get_value(self):\n",
    "        self.calculate_value()\n",
    "        return self.value"
   ]
  },
  {
   "cell_type": "code",
   "execution_count": 18,
   "metadata": {},
   "outputs": [
    {
     "name": "stdout",
     "output_type": "stream",
     "text": [
      "1\n",
      "2\n",
      "3\n",
      "----------\n",
      "3\n",
      "2\n",
      "1\n"
     ]
    }
   ],
   "source": [
    "class Node:\n",
    "    def __init__(self,data):\n",
    "        self.data=data\n",
    "        self.next=None\n",
    "        self.previous=None\n",
    "class DoubleLinkedList:\n",
    "    def __init__(self):\n",
    "        self.head=None\n",
    "        self.tail=None\n",
    "    def insert(self,data):\n",
    "        new_node=Node(data)\n",
    "        if self.head is None:\n",
    "            self.head=new_node\n",
    "            self.tail=new_node\n",
    "        else:\n",
    "            new_node.previous=self.tail\n",
    "            self.tail.next=new_node\n",
    "            self.tail=new_node\n",
    "    def traverse_forward(self):\n",
    "        actual_node=self.head\n",
    "        while actual_node is not None:\n",
    "            print(f\"{actual_node.data}\")\n",
    "            actual_node=actual_node.next\n",
    "    def traverse_backward(self):\n",
    "        actual_node=self.tail\n",
    "        while actual_node is not None:\n",
    "            print(f\"{actual_node.data}\")\n",
    "            actual_node=actual_node.previous\n",
    "if __name__==\"__main__\":\n",
    "    linked_list=DoubleLinkedList()\n",
    "    linked_list.insert(1)\n",
    "    linked_list.insert(2)\n",
    "    linked_list.insert(3)\n",
    "    \n",
    "    linked_list.traverse_forward()\n",
    "    print(\"-\"*10)\n",
    "    linked_list.traverse_backward()\n",
    "    "
   ]
  },
  {
   "cell_type": "code",
   "execution_count": 19,
   "metadata": {},
   "outputs": [],
   "source": [
    "# leetcode 146\n",
    "# use dictionary and list(array)\n",
    "class LRUCache():\n",
    "    def __init__(self,capacity):\n",
    "        self.capacity=capacity\n",
    "        self._cache=[]\n",
    "        self._cache_look_up={}\n",
    "    def get(self,key):\n",
    "        if key not in self._cache_look_up:\n",
    "            return -1\n",
    "        self._cache.remove(key)\n",
    "        self._cache.append(key)\n",
    "        return self._cache_look_up[key]\n",
    "    def put(self,key,value):\n",
    "        if key in self._cache_look_up: # can use key directly\n",
    "            self._cache_look_up[key]=value\n",
    "            self._cache.remove(key)\n",
    "            self._cache.append(key)\n",
    "            return\n",
    "        else:\n",
    "            if len(self._cache)==self.capacity:\n",
    "                del_key=self._cache[0]\n",
    "                self._cache=self._cache[1:]\n",
    "                del self._cache_look_up[del_key]\n",
    "            self._cache.append(key)\n",
    "            self._cache_look_up[key]=value\n",
    "# This algo has the complexity of O(n)\n",
    "# Remember if key not in self.cache_look_up.keys() this will add complexity to O(n)\n",
    "# but key not in self.cache_look_up will have O(1)\n"
   ]
  },
  {
   "cell_type": "code",
   "execution_count": 24,
   "metadata": {},
   "outputs": [],
   "source": [
    "import time\n",
    "class HeapNode():\n",
    "    def __init__(self,key,value):\n",
    "        self.key=key\n",
    "        self.value=value\n",
    "        self.access_time=time.time()\n",
    "    def update_time(self):\n",
    "        self.access_time=time.time()\n",
    "    def __lt__(self,other):\n",
    "        return self.access_time<other.access_time\n",
    "    def __ge__(self,other):\n",
    "        return self.access_time>=other.access_time\n",
    "    def __le__(self,other):\n",
    "        return self.access_time<=other.access_time\n",
    "    def __cmp__(self,other):\n",
    "        return self.access_time==other.access_time\n",
    "\n",
    "class Heap():\n",
    "    def __init__(self):\n",
    "        self.heap=[]\n",
    "        self.heap_size=0\n",
    "    def insert(self,node):\n",
    "        self.head_size+=1\n",
    "        self.headqpush(self.heap,node)\n",
    "    def heapify(self):\n",
    "        self.heap.sort()\n",
    "    def pushpop(self,node):\n",
    "        return headq.headpushpop(self.head,node)\n",
    "    \n"
   ]
  },
  {
   "cell_type": "code",
   "execution_count": 25,
   "metadata": {},
   "outputs": [],
   "source": [
    "#running time comparasion of linked list and array"
   ]
  },
  {
   "cell_type": "code",
   "execution_count": 28,
   "metadata": {},
   "outputs": [
    {
     "name": "stdout",
     "output_type": "stream",
     "text": [
      "0.007977962493896484\n",
      "----------\n",
      "0.03001999855041504\n"
     ]
    }
   ],
   "source": [
    "import time\n",
    "class Node:\n",
    "    def __init__(self,data):\n",
    "        self.data=data\n",
    "        self.next_node=None\n",
    "class LinkedList:\n",
    "    def __init__(self):\n",
    "        self.head=None\n",
    "        self.size=0\n",
    "    def get_middle_node(self):\n",
    "        fast_pointer=self.head\n",
    "        slow_pointer=self.head\n",
    "        while fast_pointer.next_node and fast_pointer.next_node.next_node:\n",
    "            fast_pointer=fast_pointer.next_node.next_node\n",
    "            slow_pointer=slow_pointer.next_node\n",
    "            \n",
    "        return slow_pointer #liner time complexity        \n",
    "    def insert(self,data):\n",
    "        self.size+=1\n",
    "        new_node=Node(data)\n",
    "        \n",
    "        if not self.head:\n",
    "            self.head=new_node\n",
    "        else:\n",
    "            new_node.next_node=self.head\n",
    "            self.head=new_node\n",
    "if __name__==\"__main__\":\n",
    "    linked_list=LinkedList()\n",
    "    now=time.time()\n",
    "    for i in range(10000):\n",
    "        linked_list.insert(i)\n",
    "    print(str(time.time()-now))\n",
    "    print(\"-\"*10)\n",
    "    array=[]\n",
    "    now=time.time()\n",
    "    for i in range(10000):\n",
    "        array.insert(0,i)\n",
    "    print(str(time.time()-now))\n",
    "            \n",
    "        \n",
    "        \n",
    "        \n",
    "        \n",
    "        "
   ]
  },
  {
   "cell_type": "code",
   "execution_count": 27,
   "metadata": {},
   "outputs": [],
   "source": [
    "#find the middle node in a linklist"
   ]
  },
  {
   "cell_type": "code",
   "execution_count": 31,
   "metadata": {},
   "outputs": [
    {
     "name": "stdout",
     "output_type": "stream",
     "text": [
      "3\n"
     ]
    }
   ],
   "source": [
    "if __name__==\"__main__\":\n",
    "    linked_list=LinkedList()\n",
    "    linked_list.insert(1)\n",
    "    linked_list.insert(2)\n",
    "    linked_list.insert(3)\n",
    "    linked_list.insert(4)\n",
    "    print(linked_list.get_middle_node().data)\n",
    "    "
   ]
  },
  {
   "cell_type": "code",
   "execution_count": null,
   "metadata": {},
   "outputs": [],
   "source": [
    "class LinkNode():\n",
    "    def __init__(self,key,val,prev_node=None,next_node=None):\n",
    "        "
   ]
  }
 ],
 "metadata": {
  "kernelspec": {
   "display_name": "Python 3",
   "language": "python",
   "name": "python3"
  },
  "language_info": {
   "codemirror_mode": {
    "name": "ipython",
    "version": 3
   },
   "file_extension": ".py",
   "mimetype": "text/x-python",
   "name": "python",
   "nbconvert_exporter": "python",
   "pygments_lexer": "ipython3",
   "version": "3.7.4"
  }
 },
 "nbformat": 4,
 "nbformat_minor": 2
}
