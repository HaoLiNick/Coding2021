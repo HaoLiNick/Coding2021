{
 "cells": [
  {
   "cell_type": "code",
   "execution_count": 2,
   "metadata": {},
   "outputs": [],
   "source": [
    "# Roman to Int\n",
    "def RomanToInt(s):\n",
    "    roman={\"I\":1,\"V\":5,\"X\":10,\"L\":50,\"C\":100,\"D\":500,\"M\":1000}\n",
    "    res=roman[s[-1]]\n",
    "    for i in range(len(s)-2,-1,-1):\n",
    "        if roman[s[i]]<roman[s[i+1]]:\n",
    "            res-=roman[s[i]]\n",
    "        else:\n",
    "            res+=roman[s[i]]\n",
    "    return res"
   ]
  },
  {
   "cell_type": "code",
   "execution_count": 6,
   "metadata": {},
   "outputs": [
    {
     "data": {
      "text/plain": [
       "9"
      ]
     },
     "execution_count": 6,
     "metadata": {},
     "output_type": "execute_result"
    }
   ],
   "source": [
    "RomanToInt(\"IX\")"
   ]
  },
  {
   "cell_type": "code",
   "execution_count": 9,
   "metadata": {},
   "outputs": [],
   "source": [
    "def IntToRoman(num):\n",
    "    roman_num=''\n",
    "    numlist=[1000,900,500,400,100,90,50,40,10,9,5,4,1]\n",
    "    roman_num_lost=['M','CM','D','CD','C','XC','L','XL','X','IX','V','IV','I']\n",
    "    for i in range(len(numlist)):\n",
    "        while num>=numlist[i]:\n",
    "            num-=numlist[i]\n",
    "            roman_num+=roman_num_lost[i]\n",
    "    return roman_num"
   ]
  },
  {
   "cell_type": "code",
   "execution_count": 10,
   "metadata": {},
   "outputs": [
    {
     "data": {
      "text/plain": [
       "'MCMXCIV'"
      ]
     },
     "execution_count": 10,
     "metadata": {},
     "output_type": "execute_result"
    }
   ],
   "source": [
    "IntToRoman(1994)"
   ]
  },
  {
   "cell_type": "code",
   "execution_count": null,
   "metadata": {},
   "outputs": [],
   "source": []
  },
  {
   "cell_type": "code",
   "execution_count": 15,
   "metadata": {},
   "outputs": [
    {
     "name": "stdout",
     "output_type": "stream",
     "text": [
      "2 5 8 6 9 1 "
     ]
    }
   ],
   "source": [
    "from collections import defaultdict\n",
    "class Graph:\n",
    "    def __init__(self):\n",
    "        self.graph=defaultdict(list)\n",
    "    def insertEdge(self,v1,v2):\n",
    "        #v1->v2\n",
    "        self.graph[v1].append(v2)\n",
    "    def DFS(self,startNode):\n",
    "        visited=set()\n",
    "        st=[] #work as stack\n",
    "        st.append(startNode)\n",
    "        while st:\n",
    "            cur=st.pop()\n",
    "            if cur not in visited:\n",
    "                print(cur,end=\" \")\n",
    "                visited.add(cur)\n",
    "            for vertex in self.graph[cur]:\n",
    "                if vertex not in visited:\n",
    "                    st.append(vertex)\n",
    "g=Graph()\n",
    "g.insertEdge(2,1)\n",
    "g.insertEdge(2,5)\n",
    "g.insertEdge(5,6)\n",
    "g.insertEdge(5,8)\n",
    "g.insertEdge(6,9)\n",
    "g.DFS(2)\n",
    "                \n",
    "                \n",
    "            "
   ]
  },
  {
   "cell_type": "code",
   "execution_count": 16,
   "metadata": {},
   "outputs": [],
   "source": [
    "def calculator(s):\n",
    "    res,num,sign=0,0,1\n",
    "    stack=[]\n",
    "    for c in s:\n",
    "        if c.isdigit():\n",
    "            num=num*10+int(c)\n",
    "        elif c==\"+\" or c==\"-\":\n",
    "            res=res+sign*num\n",
    "            num=0\n",
    "            sign=1 if c==\"+\" else -1\n",
    "        elif c==\"(\":\n",
    "            stack.append(res)\n",
    "            stack.append(sign)\n",
    "            res=0\n",
    "            sign=1\n",
    "        elif c==\")\":\n",
    "            res=res+num*sign\n",
    "            num=0\n",
    "            res*=stack.pop()\n",
    "            res+=stack.pop()\n",
    "        else:\n",
    "            continue\n",
    "    res=res+sign*num\n",
    "    return res"
   ]
  },
  {
   "cell_type": "code",
   "execution_count": 17,
   "metadata": {},
   "outputs": [
    {
     "data": {
      "text/plain": [
       "-5"
      ]
     },
     "execution_count": 17,
     "metadata": {},
     "output_type": "execute_result"
    }
   ],
   "source": [
    "calculator(\"1+3-(4+5)\")"
   ]
  },
  {
   "cell_type": "code",
   "execution_count": null,
   "metadata": {},
   "outputs": [],
   "source": []
  }
 ],
 "metadata": {
  "kernelspec": {
   "display_name": "Python 3",
   "language": "python",
   "name": "python3"
  },
  "language_info": {
   "codemirror_mode": {
    "name": "ipython",
    "version": 3
   },
   "file_extension": ".py",
   "mimetype": "text/x-python",
   "name": "python",
   "nbconvert_exporter": "python",
   "pygments_lexer": "ipython3",
   "version": "3.7.4"
  }
 },
 "nbformat": 4,
 "nbformat_minor": 2
}
