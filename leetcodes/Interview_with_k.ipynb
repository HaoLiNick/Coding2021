{
 "cells": [
  {
   "cell_type": "code",
   "execution_count": 1,
   "metadata": {},
   "outputs": [
    {
     "name": "stderr",
     "output_type": "stream",
     "text": [
      "C:\\Users\\Hao.Li\\Anaconda3\\lib\\importlib\\_bootstrap.py:219: RuntimeWarning: numpy.ufunc size changed, may indicate binary incompatibility. Expected 192 from C header, got 216 from PyObject\n",
      "  return f(*args, **kwds)\n"
     ]
    }
   ],
   "source": [
    "# TWAP\n",
    "%matplotlib inline\n",
    "import matplotlib.pyplot as plt\n",
    "import numpy as np\n",
    "import pandas as pd"
   ]
  },
  {
   "cell_type": "code",
   "execution_count": 3,
   "metadata": {},
   "outputs": [],
   "source": [
    "# quantity=1000000\n",
    "# pct_volume=0.05\n",
    "# quant_reamining=quantity\n",
    "# trades=pd.DataFrame(columns=['price','shares'],index=day.index)\n",
    "\n",
    "# n_bins=390\n",
    "# slice_size=quantity/n_bins\n",
    "\n",
    "# for index,row in day.interrows():\n",
    "#     px=(row['high']+row['low'])/2\n",
    "#     volume=row['volume']\n",
    "#     new_trade=slice_size\n",
    "    \n",
    "#     trades.loc[index]=[px,new_trade]\n",
    "#     quant_reamining-=new_trade\n",
    "    \n",
    "#     if quant_reamining<=0:\n",
    "#         break"
   ]
  },
  {
   "cell_type": "code",
   "execution_count": 4,
   "metadata": {},
   "outputs": [],
   "source": [
    "# vwap=(day['close']*day[\"volume\"]).sum()/day['volumn'].sum()\n",
    "# slippage=(vwap-pvag)/vwap*10000 #(BP wise)"
   ]
  },
  {
   "cell_type": "code",
   "execution_count": 6,
   "metadata": {},
   "outputs": [],
   "source": [
    "# Vwap profile\n",
    "\n",
    "# total_volume=bars.groupby(bars.index.date).tail(1)['volume']\n",
    "# bars['accu_v']=bars.groupbby\n",
    "\n",
    "# firstly we select the last record as the colase volume\n",
    "# then we groupby cumsum to get the cumsummation of the total volume\n",
    "# finally we groupby the cumsum derived in step2, but transform the results by lambda x: x/x.iloc[-1]"
   ]
  },
  {
   "cell_type": "code",
   "execution_count": 9,
   "metadata": {},
   "outputs": [],
   "source": [
    "from collections import deque\n",
    "class Maxq:\n",
    "    def __init__(self):\n",
    "        self.q_=deque()\n",
    "    def push(self,e):\n",
    "        while self.q_ and e>self.q_[-1]: \n",
    "            self.q_.pop()\n",
    "        self.q_.append(e)\n",
    "    def pop(self):\n",
    "        self.q_.popleft()\n",
    "    def max(self):\n",
    "        return self.q_[0]\n",
    "def maxslidewindo(nums,k):\n",
    "    q=Maxq()\n",
    "    ans=[]\n",
    "    for i  in range(len(nums)):\n",
    "        q.push(nums[i])\n",
    "        if i>=k-1:\n",
    "            ans.append(q.max())\n",
    "            if nums[i-k+1]==q.max():\n",
    "                q.pop()\n",
    "    return ans"
   ]
  },
  {
   "cell_type": "code",
   "execution_count": 10,
   "metadata": {},
   "outputs": [
    {
     "data": {
      "text/plain": [
       "[3, 3, 5, 5, 6, 7]"
      ]
     },
     "execution_count": 10,
     "metadata": {},
     "output_type": "execute_result"
    }
   ],
   "source": [
    "maxslidewindo([1,3,-1,-3,5,3,6,7],3)"
   ]
  },
  {
   "cell_type": "code",
   "execution_count": 1,
   "metadata": {},
   "outputs": [],
   "source": [
    "def maxslidew(nums,k):\n",
    "    indices=deque()\n",
    "    ans=[]\n",
    "    for i in range(len(nums)):\n",
    "        while indices and nums[i]>=nums[indices[-1]]:\n",
    "            indices.pop()\n",
    "        indices.append(i)\n",
    "        \n",
    "        "
   ]
  },
  {
   "cell_type": "code",
   "execution_count": 16,
   "metadata": {},
   "outputs": [],
   "source": [
    "from collections import deque\n",
    "class FirstUnique:\n",
    "    def __init__(self,nums):\n",
    "        self.q=deque()\n",
    "        self.mydict={}\n",
    "        for i in nums:\n",
    "            self.add(i)\n",
    "    def show(self):\n",
    "        while self.q and self.mydict[self.q[0]]>1:\n",
    "            self.q.popleft()\n",
    "        if not self.q:\n",
    "            return -1\n",
    "        else:\n",
    "            return self.q[0]\n",
    "        \n",
    "    def add(self,value):\n",
    "        if value in self.mydict:\n",
    "            self.mydict[value]+=1\n",
    "        else:\n",
    "            self.mydict[value]=1\n",
    "            self.q.append(value)\n",
    "        "
   ]
  },
  {
   "cell_type": "code",
   "execution_count": 17,
   "metadata": {},
   "outputs": [],
   "source": [
    "myls=FirstUnique([2,3,5])"
   ]
  },
  {
   "cell_type": "code",
   "execution_count": 18,
   "metadata": {},
   "outputs": [],
   "source": [
    "myls.add(5)"
   ]
  },
  {
   "cell_type": "code",
   "execution_count": 19,
   "metadata": {},
   "outputs": [
    {
     "data": {
      "text/plain": [
       "2"
      ]
     },
     "execution_count": 19,
     "metadata": {},
     "output_type": "execute_result"
    }
   ],
   "source": [
    "myls.show()"
   ]
  },
  {
   "cell_type": "code",
   "execution_count": null,
   "metadata": {},
   "outputs": [],
   "source": []
  },
  {
   "cell_type": "code",
   "execution_count": null,
   "metadata": {},
   "outputs": [],
   "source": []
  },
  {
   "cell_type": "code",
   "execution_count": null,
   "metadata": {},
   "outputs": [],
   "source": []
  },
  {
   "cell_type": "code",
   "execution_count": null,
   "metadata": {},
   "outputs": [],
   "source": []
  },
  {
   "cell_type": "code",
   "execution_count": null,
   "metadata": {},
   "outputs": [],
   "source": []
  },
  {
   "cell_type": "code",
   "execution_count": null,
   "metadata": {},
   "outputs": [],
   "source": []
  },
  {
   "cell_type": "code",
   "execution_count": 20,
   "metadata": {},
   "outputs": [],
   "source": [
    "myls.add(2)"
   ]
  },
  {
   "cell_type": "code",
   "execution_count": 21,
   "metadata": {},
   "outputs": [
    {
     "data": {
      "text/plain": [
       "3"
      ]
     },
     "execution_count": 21,
     "metadata": {},
     "output_type": "execute_result"
    }
   ],
   "source": [
    "myls.show()"
   ]
  },
  {
   "cell_type": "code",
   "execution_count": 22,
   "metadata": {},
   "outputs": [],
   "source": [
    "myls.add(3)"
   ]
  },
  {
   "cell_type": "code",
   "execution_count": 23,
   "metadata": {},
   "outputs": [
    {
     "data": {
      "text/plain": [
       "-1"
      ]
     },
     "execution_count": 23,
     "metadata": {},
     "output_type": "execute_result"
    }
   ],
   "source": [
    "myls.show()"
   ]
  },
  {
   "cell_type": "code",
   "execution_count": null,
   "metadata": {},
   "outputs": [],
   "source": []
  },
  {
   "cell_type": "code",
   "execution_count": null,
   "metadata": {},
   "outputs": [],
   "source": []
  },
  {
   "cell_type": "code",
   "execution_count": 25,
   "metadata": {},
   "outputs": [],
   "source": [
    "from queue import PriorityQueue"
   ]
  },
  {
   "cell_type": "code",
   "execution_count": 26,
   "metadata": {},
   "outputs": [],
   "source": [
    "class ListNode:\n",
    "    def __init__(self,val=0,next=None):\n",
    "        self.val=val\n",
    "        self.next=next\n",
    "def mergeKLists(self,lists):\n",
    "    head=point=ListNode(0)\n",
    "    q=PriorityQueue()\n",
    "    for l in lists:\n",
    "        if l:\n",
    "            q.put((l.val,l))\n",
    "    while not q.empty():\n",
    "        val,node=q.get()\n",
    "        point.next=ListNode(val)\n",
    "        point=point.next\n",
    "        node=node.next\n",
    "        if node:\n",
    "            q.put((node.val,node))\n",
    "    return head.next"
   ]
  },
  {
   "cell_type": "code",
   "execution_count": 27,
   "metadata": {},
   "outputs": [],
   "source": [
    "class Solution:\n",
    "    def myAtoi(self, s: str) -> int:\n",
    "        number = 0\n",
    "        positive = True\n",
    "        MAX = 2**31 - 1\n",
    "        MIN = -2**31\n",
    "        \n",
    "\t\t# delete whitespaces\n",
    "        s = s.strip()\n",
    "        \n",
    "        if len(s) == 0: return 0\n",
    "        \n",
    "        if s[0] == \"-\":\n",
    "            positive = False\n",
    "        elif s[0] == \"+\":\n",
    "            positive = True\n",
    "        elif not s[0].isdigit(): return 0\n",
    "        elif s[0].isdigit():\n",
    "            number = int(s[0])\n",
    "        \n",
    "        for i in range(1, len(s)):\n",
    "            if not s[i].isdigit(): break\n",
    "            number = number*10 + int(s[i])\n",
    "            \n",
    "            if positive and number > MAX:\n",
    "                return MAX\n",
    "            if not positive and -number < MIN:\n",
    "                return MIN\n",
    "        \n",
    "        if positive: return number\n",
    "        return -number"
   ]
  },
  {
   "cell_type": "code",
   "execution_count": null,
   "metadata": {},
   "outputs": [],
   "source": [
    "import heapq\n",
    "heapq.heapreplace()"
   ]
  },
  {
   "cell_type": "code",
   "execution_count": 47,
   "metadata": {},
   "outputs": [],
   "source": [
    "import heapq\n",
    "def max_step_cita(ability,process):\n",
    "    myheap=list([-i for i in ability])\n",
    "    heapq.heapify(myheap)\n",
    "    print(type(myheap))\n",
    "    count=0\n",
    "    while process>0:\n",
    "        \n",
    "        count+=1\n",
    "        \n",
    "        pop_e=heapq.heappop(myheap)\n",
    "        \n",
    "        process+=pop_e\n",
    "        \n",
    "        heapq.heapppush(myheap,pop_e//2)\n",
    "    return count\n",
    "    "
   ]
  },
  {
   "cell_type": "code",
   "execution_count": 48,
   "metadata": {},
   "outputs": [
    {
     "name": "stdout",
     "output_type": "stream",
     "text": [
      "<class 'list'>\n"
     ]
    },
    {
     "ename": "AttributeError",
     "evalue": "module 'heapq' has no attribute 'heapppush'",
     "output_type": "error",
     "traceback": [
      "\u001b[1;31m---------------------------------------------------------------------------\u001b[0m",
      "\u001b[1;31mAttributeError\u001b[0m                            Traceback (most recent call last)",
      "\u001b[1;32m<ipython-input-48-1c6d94f1db62>\u001b[0m in \u001b[0;36m<module>\u001b[1;34m\u001b[0m\n\u001b[1;32m----> 1\u001b[1;33m \u001b[0mmax_step_cita\u001b[0m\u001b[1;33m(\u001b[0m\u001b[1;33m[\u001b[0m\u001b[1;36m1\u001b[0m\u001b[1;33m,\u001b[0m\u001b[1;36m4\u001b[0m\u001b[1;33m,\u001b[0m\u001b[1;36m6\u001b[0m\u001b[1;33m,\u001b[0m\u001b[1;36m7\u001b[0m\u001b[1;33m,\u001b[0m\u001b[1;36m2\u001b[0m\u001b[1;33m,\u001b[0m\u001b[1;36m3\u001b[0m\u001b[1;33m,\u001b[0m\u001b[1;36m3\u001b[0m\u001b[1;33m]\u001b[0m\u001b[1;33m,\u001b[0m\u001b[1;36m20\u001b[0m\u001b[1;33m)\u001b[0m\u001b[1;33m\u001b[0m\u001b[1;33m\u001b[0m\u001b[0m\n\u001b[0m",
      "\u001b[1;32m<ipython-input-47-2d7350fd75b6>\u001b[0m in \u001b[0;36mmax_step_cita\u001b[1;34m(ability, process)\u001b[0m\n\u001b[0;32m     13\u001b[0m         \u001b[0mprocess\u001b[0m\u001b[1;33m+=\u001b[0m\u001b[0mpop_e\u001b[0m\u001b[1;33m\u001b[0m\u001b[1;33m\u001b[0m\u001b[0m\n\u001b[0;32m     14\u001b[0m \u001b[1;33m\u001b[0m\u001b[0m\n\u001b[1;32m---> 15\u001b[1;33m         \u001b[0mheapq\u001b[0m\u001b[1;33m.\u001b[0m\u001b[0mheapppush\u001b[0m\u001b[1;33m(\u001b[0m\u001b[0mmyheap\u001b[0m\u001b[1;33m,\u001b[0m\u001b[0mpop_e\u001b[0m\u001b[1;33m//\u001b[0m\u001b[1;36m2\u001b[0m\u001b[1;33m)\u001b[0m\u001b[1;33m\u001b[0m\u001b[1;33m\u001b[0m\u001b[0m\n\u001b[0m\u001b[0;32m     16\u001b[0m     \u001b[1;32mreturn\u001b[0m \u001b[0mcount\u001b[0m\u001b[1;33m\u001b[0m\u001b[1;33m\u001b[0m\u001b[0m\n\u001b[0;32m     17\u001b[0m \u001b[1;33m\u001b[0m\u001b[0m\n",
      "\u001b[1;31mAttributeError\u001b[0m: module 'heapq' has no attribute 'heapppush'"
     ]
    }
   ],
   "source": [
    "max_step_cita([1,4,6,7,2,3,3],20)"
   ]
  },
  {
   "cell_type": "code",
   "execution_count": 41,
   "metadata": {},
   "outputs": [
    {
     "data": {
      "text/plain": [
       "[1, 2, 3, 7, 4, 3, 6]"
      ]
     },
     "execution_count": 41,
     "metadata": {},
     "output_type": "execute_result"
    }
   ],
   "source": [
    "a"
   ]
  },
  {
   "cell_type": "code",
   "execution_count": null,
   "metadata": {},
   "outputs": [],
   "source": []
  }
 ],
 "metadata": {
  "kernelspec": {
   "display_name": "Python 3",
   "language": "python",
   "name": "python3"
  },
  "language_info": {
   "codemirror_mode": {
    "name": "ipython",
    "version": 3
   },
   "file_extension": ".py",
   "mimetype": "text/x-python",
   "name": "python",
   "nbconvert_exporter": "python",
   "pygments_lexer": "ipython3",
   "version": "3.7.4"
  }
 },
 "nbformat": 4,
 "nbformat_minor": 2
}
