{
 "cells": [
  {
   "cell_type": "code",
   "execution_count": 1,
   "metadata": {},
   "outputs": [
    {
     "name": "stderr",
     "output_type": "stream",
     "text": [
      "C:\\Users\\Hao.Li\\Anaconda3\\lib\\importlib\\_bootstrap.py:219: RuntimeWarning: numpy.ufunc size changed, may indicate binary incompatibility. Expected 192 from C header, got 216 from PyObject\n",
      "  return f(*args, **kwds)\n"
     ]
    }
   ],
   "source": [
    "# TWAP\n",
    "%matplotlib inline\n",
    "import matplotlib.pyplot as plt\n",
    "import numpy as np\n",
    "import pandas as pd"
   ]
  },
  {
   "cell_type": "code",
   "execution_count": 3,
   "metadata": {},
   "outputs": [],
   "source": [
    "# quantity=1000000\n",
    "# pct_volume=0.05\n",
    "# quant_reamining=quantity\n",
    "# trades=pd.DataFrame(columns=['price','shares'],index=day.index)\n",
    "\n",
    "# n_bins=390\n",
    "# slice_size=quantity/n_bins\n",
    "\n",
    "# for index,row in day.interrows():\n",
    "#     px=(row['high']+row['low'])/2\n",
    "#     volume=row['volume']\n",
    "#     new_trade=slice_size\n",
    "    \n",
    "#     trades.loc[index]=[px,new_trade]\n",
    "#     quant_reamining-=new_trade\n",
    "    \n",
    "#     if quant_reamining<=0:\n",
    "#         break"
   ]
  },
  {
   "cell_type": "code",
   "execution_count": 4,
   "metadata": {},
   "outputs": [],
   "source": [
    "# vwap=(day['close']*day[\"volume\"]).sum()/day['volumn'].sum()\n",
    "# slippage=(vwap-pvag)/vwap*10000 #(BP wise)"
   ]
  },
  {
   "cell_type": "code",
   "execution_count": 6,
   "metadata": {},
   "outputs": [],
   "source": [
    "# Vwap profile\n",
    "\n",
    "# total_volume=bars.groupby(bars.index.date).tail(1)['volume']\n",
    "# bars['accu_v']=bars.groupbby\n",
    "\n",
    "# firstly we select the last record as the colase volume\n",
    "# then we groupby cumsum to get the cumsummation of the total volume\n",
    "# finally we groupby the cumsum derived in step2, but transform the results by lambda x: x/x.iloc[-1]"
   ]
  },
  {
   "cell_type": "code",
   "execution_count": 9,
   "metadata": {},
   "outputs": [],
   "source": [
    "from collections import deque\n",
    "class Maxq:\n",
    "    def __init__(self):\n",
    "        self.q_=deque()\n",
    "    def push(self,e):\n",
    "        while self.q_ and e>self.q_[-1]: \n",
    "            self.q_.pop()\n",
    "        self.q_.append(e)\n",
    "    def pop(self):\n",
    "        self.q_.popleft()\n",
    "    def max(self):\n",
    "        return self.q_[0]\n",
    "def maxslidewindo(nums,k):\n",
    "    q=Maxq()\n",
    "    ans=[]\n",
    "    for i  in range(len(nums)):\n",
    "        q.push(nums[i])\n",
    "        if i>=k-1:\n",
    "            ans.append(q.max())\n",
    "            if nums[i-k+1]==q.max():\n",
    "                q.pop()\n",
    "    return ans"
   ]
  },
  {
   "cell_type": "code",
   "execution_count": 10,
   "metadata": {},
   "outputs": [
    {
     "data": {
      "text/plain": [
       "[3, 3, 5, 5, 6, 7]"
      ]
     },
     "execution_count": 10,
     "metadata": {},
     "output_type": "execute_result"
    }
   ],
   "source": [
    "maxslidewindo([1,3,-1,-3,5,3,6,7],3)"
   ]
  },
  {
   "cell_type": "code",
   "execution_count": null,
   "metadata": {},
   "outputs": [],
   "source": [
    "def maxslidew(nums,k):\n",
    "    indices=deque()\n",
    "    ans=[]\n",
    "    for i in range(len(nums)):\n",
    "        while indices and nums[i]>=nums[indices[-1]]:\n",
    "            indices.pop()\n",
    "        indices.append(i)\n",
    "        \n",
    "        "
   ]
  }
 ],
 "metadata": {
  "kernelspec": {
   "display_name": "Python 3",
   "language": "python",
   "name": "python3"
  },
  "language_info": {
   "codemirror_mode": {
    "name": "ipython",
    "version": 3
   },
   "file_extension": ".py",
   "mimetype": "text/x-python",
   "name": "python",
   "nbconvert_exporter": "python",
   "pygments_lexer": "ipython3",
   "version": "3.7.4"
  }
 },
 "nbformat": 4,
 "nbformat_minor": 2
}
