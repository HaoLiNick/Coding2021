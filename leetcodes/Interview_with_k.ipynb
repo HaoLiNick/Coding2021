{
 "cells": [
  {
   "cell_type": "code",
   "execution_count": 1,
   "metadata": {},
   "outputs": [
    {
     "name": "stderr",
     "output_type": "stream",
     "text": [
      "C:\\Users\\Hao.Li\\Anaconda3\\lib\\importlib\\_bootstrap.py:219: RuntimeWarning: numpy.ufunc size changed, may indicate binary incompatibility. Expected 192 from C header, got 216 from PyObject\n",
      "  return f(*args, **kwds)\n"
     ]
    }
   ],
   "source": [
    "# TWAP\n",
    "%matplotlib inline\n",
    "import matplotlib.pyplot as plt\n",
    "import numpy as np\n",
    "import pandas as pd"
   ]
  },
  {
   "cell_type": "code",
   "execution_count": 3,
   "metadata": {},
   "outputs": [],
   "source": [
    "# quantity=1000000\n",
    "# pct_volume=0.05\n",
    "# quant_reamining=quantity\n",
    "# trades=pd.DataFrame(columns=['price','shares'],index=day.index)\n",
    "\n",
    "# n_bins=390\n",
    "# slice_size=quantity/n_bins\n",
    "\n",
    "# for index,row in day.interrows():\n",
    "#     px=(row['high']+row['low'])/2\n",
    "#     volume=row['volume']\n",
    "#     new_trade=slice_size\n",
    "    \n",
    "#     trades.loc[index]=[px,new_trade]\n",
    "#     quant_reamining-=new_trade\n",
    "    \n",
    "#     if quant_reamining<=0:\n",
    "#         break"
   ]
  },
  {
   "cell_type": "code",
   "execution_count": 4,
   "metadata": {},
   "outputs": [],
   "source": [
    "# vwap=(day['close']*day[\"volume\"]).sum()/day['volumn'].sum()\n",
    "# slippage=(vwap-pvag)/vwap*10000 #(BP wise)"
   ]
  },
  {
   "cell_type": "code",
   "execution_count": 6,
   "metadata": {},
   "outputs": [],
   "source": [
    "# Vwap profile\n",
    "\n",
    "# total_volume=bars.groupby(bars.index.date).tail(1)['volume']\n",
    "# bars['accu_v']=bars.groupbby\n",
    "\n",
    "# firstly we select the last record as the colase volume\n",
    "# then we groupby cumsum to get the cumsummation of the total volume\n",
    "# finally we groupby the cumsum derived in step2, but transform the results by lambda x: x/x.iloc[-1]"
   ]
  },
  {
   "cell_type": "code",
   "execution_count": 9,
   "metadata": {},
   "outputs": [],
   "source": [
    "from collections import deque\n",
    "class Maxq:\n",
    "    def __init__(self):\n",
    "        self.q_=deque()\n",
    "    def push(self,e):\n",
    "        while self.q_ and e>self.q_[-1]: \n",
    "            self.q_.pop()\n",
    "        self.q_.append(e)\n",
    "    def pop(self):\n",
    "        self.q_.popleft()\n",
    "    def max(self):\n",
    "        return self.q_[0]\n",
    "def maxslidewindo(nums,k):\n",
    "    q=Maxq()\n",
    "    ans=[]\n",
    "    for i  in range(len(nums)):\n",
    "        q.push(nums[i])\n",
    "        if i>=k-1:\n",
    "            ans.append(q.max())\n",
    "            if nums[i-k+1]==q.max():\n",
    "                q.pop()\n",
    "    return ans"
   ]
  },
  {
   "cell_type": "code",
   "execution_count": 10,
   "metadata": {},
   "outputs": [
    {
     "data": {
      "text/plain": [
       "[3, 3, 5, 5, 6, 7]"
      ]
     },
     "execution_count": 10,
     "metadata": {},
     "output_type": "execute_result"
    }
   ],
   "source": [
    "maxslidewindo([1,3,-1,-3,5,3,6,7],3)"
   ]
  },
  {
   "cell_type": "code",
   "execution_count": 1,
   "metadata": {},
   "outputs": [],
   "source": [
    "def maxslidew(nums,k):\n",
    "    indices=deque()\n",
    "    ans=[]\n",
    "    for i in range(len(nums)):\n",
    "        while indices and nums[i]>=nums[indices[-1]]:\n",
    "            indices.pop()\n",
    "        indices.append(i)\n",
    "        \n",
    "        "
   ]
  },
  {
   "cell_type": "code",
   "execution_count": 16,
   "metadata": {},
   "outputs": [],
   "source": [
    "from collections import deque\n",
    "class FirstUnique:\n",
    "    def __init__(self,nums):\n",
    "        self.q=deque()\n",
    "        self.mydict={}\n",
    "        for i in nums:\n",
    "            self.add(i)\n",
    "    def show(self):\n",
    "        while self.q and self.mydict[self.q[0]]>1:\n",
    "            self.q.popleft()\n",
    "        if not self.q:\n",
    "            return -1\n",
    "        else:\n",
    "            return self.q[0]\n",
    "        \n",
    "    def add(self,value):\n",
    "        if value in self.mydict:\n",
    "            self.mydict[value]+=1\n",
    "        else:\n",
    "            self.mydict[value]=1\n",
    "            self.q.append(value)\n",
    "        "
   ]
  },
  {
   "cell_type": "code",
   "execution_count": 17,
   "metadata": {},
   "outputs": [],
   "source": [
    "myls=FirstUnique([2,3,5])"
   ]
  },
  {
   "cell_type": "code",
   "execution_count": 18,
   "metadata": {},
   "outputs": [],
   "source": [
    "myls.add(5)"
   ]
  },
  {
   "cell_type": "code",
   "execution_count": 19,
   "metadata": {},
   "outputs": [
    {
     "data": {
      "text/plain": [
       "2"
      ]
     },
     "execution_count": 19,
     "metadata": {},
     "output_type": "execute_result"
    }
   ],
   "source": [
    "myls.show()"
   ]
  },
  {
   "cell_type": "code",
   "execution_count": null,
   "metadata": {},
   "outputs": [],
   "source": []
  },
  {
   "cell_type": "code",
   "execution_count": null,
   "metadata": {},
   "outputs": [],
   "source": []
  },
  {
   "cell_type": "code",
   "execution_count": null,
   "metadata": {},
   "outputs": [],
   "source": []
  },
  {
   "cell_type": "code",
   "execution_count": null,
   "metadata": {},
   "outputs": [],
   "source": []
  },
  {
   "cell_type": "code",
   "execution_count": null,
   "metadata": {},
   "outputs": [],
   "source": []
  },
  {
   "cell_type": "code",
   "execution_count": null,
   "metadata": {},
   "outputs": [],
   "source": []
  },
  {
   "cell_type": "code",
   "execution_count": 20,
   "metadata": {},
   "outputs": [],
   "source": [
    "myls.add(2)"
   ]
  },
  {
   "cell_type": "code",
   "execution_count": 21,
   "metadata": {},
   "outputs": [
    {
     "data": {
      "text/plain": [
       "3"
      ]
     },
     "execution_count": 21,
     "metadata": {},
     "output_type": "execute_result"
    }
   ],
   "source": [
    "myls.show()"
   ]
  },
  {
   "cell_type": "code",
   "execution_count": 22,
   "metadata": {},
   "outputs": [],
   "source": [
    "myls.add(3)"
   ]
  },
  {
   "cell_type": "code",
   "execution_count": 23,
   "metadata": {},
   "outputs": [
    {
     "data": {
      "text/plain": [
       "-1"
      ]
     },
     "execution_count": 23,
     "metadata": {},
     "output_type": "execute_result"
    }
   ],
   "source": [
    "myls.show()"
   ]
  },
  {
   "cell_type": "code",
   "execution_count": null,
   "metadata": {},
   "outputs": [],
   "source": []
  },
  {
   "cell_type": "code",
   "execution_count": null,
   "metadata": {},
   "outputs": [],
   "source": []
  },
  {
   "cell_type": "code",
   "execution_count": 25,
   "metadata": {},
   "outputs": [],
   "source": [
    "from queue import PriorityQueue"
   ]
  },
  {
   "cell_type": "code",
   "execution_count": 26,
   "metadata": {},
   "outputs": [],
   "source": [
    "class ListNode:\n",
    "    def __init__(self,val=0,next=None):\n",
    "        self.val=val\n",
    "        self.next=next\n",
    "def mergeKLists(self,lists):\n",
    "    head=point=ListNode(0)\n",
    "    q=PriorityQueue()\n",
    "    for l in lists:\n",
    "        if l:\n",
    "            q.put((l.val,l))\n",
    "    while not q.empty():\n",
    "        val,node=q.get()\n",
    "        point.next=ListNode(val)\n",
    "        point=point.next\n",
    "        node=node.next\n",
    "        if node:\n",
    "            q.put((node.val,node))\n",
    "    return head.next"
   ]
  },
  {
   "cell_type": "code",
   "execution_count": 27,
   "metadata": {},
   "outputs": [],
   "source": [
    "class Solution:\n",
    "    def myAtoi(self, s: str) -> int:\n",
    "        number = 0\n",
    "        positive = True\n",
    "        MAX = 2**31 - 1\n",
    "        MIN = -2**31\n",
    "        \n",
    "\t\t# delete whitespaces\n",
    "        s = s.strip()\n",
    "        \n",
    "        if len(s) == 0: return 0\n",
    "        \n",
    "        if s[0] == \"-\":\n",
    "            positive = False\n",
    "        elif s[0] == \"+\":\n",
    "            positive = True\n",
    "        elif not s[0].isdigit(): return 0\n",
    "        elif s[0].isdigit():\n",
    "            number = int(s[0])\n",
    "        \n",
    "        for i in range(1, len(s)):\n",
    "            if not s[i].isdigit(): break\n",
    "            number = number*10 + int(s[i])\n",
    "            \n",
    "            if positive and number > MAX:\n",
    "                return MAX\n",
    "            if not positive and -number < MIN:\n",
    "                return MIN\n",
    "        \n",
    "        if positive: return number\n",
    "        return -number"
   ]
  },
  {
   "cell_type": "code",
   "execution_count": null,
   "metadata": {},
   "outputs": [],
   "source": [
    "import heapq\n",
    "heapq.heapreplace()"
   ]
  },
  {
   "cell_type": "code",
   "execution_count": 49,
   "metadata": {},
   "outputs": [],
   "source": [
    "import heapq\n",
    "def max_step_cita(ability,process):\n",
    "    myheap=list([-i for i in ability])\n",
    "    heapq.heapify(myheap)\n",
    "    print(type(myheap))\n",
    "    count=0\n",
    "    while process>0:\n",
    "        \n",
    "        count+=1\n",
    "        \n",
    "        pop_e=heapq.heappop(myheap)\n",
    "        \n",
    "        process+=pop_e\n",
    "        \n",
    "        heapq.heappush(myheap,pop_e//2)\n",
    "    return count\n",
    "    "
   ]
  },
  {
   "cell_type": "code",
   "execution_count": 50,
   "metadata": {},
   "outputs": [
    {
     "name": "stdout",
     "output_type": "stream",
     "text": [
      "<class 'list'>\n"
     ]
    },
    {
     "data": {
      "text/plain": [
       "4"
      ]
     },
     "execution_count": 50,
     "metadata": {},
     "output_type": "execute_result"
    }
   ],
   "source": [
    "max_step_cita([1,4,6,7,2,3,3],20)"
   ]
  },
  {
   "cell_type": "code",
   "execution_count": 41,
   "metadata": {},
   "outputs": [
    {
     "data": {
      "text/plain": [
       "[1, 2, 3, 7, 4, 3, 6]"
      ]
     },
     "execution_count": 41,
     "metadata": {},
     "output_type": "execute_result"
    }
   ],
   "source": []
  },
  {
   "cell_type": "code",
   "execution_count": 53,
   "metadata": {},
   "outputs": [],
   "source": [
    "class FenwickTree:\n",
    "    def __init__(self,nums):\n",
    "        self.nums=nums\n",
    "        self.ft=[0 for _ in range(len(nums)+1)]\n",
    "    #O(NlogN)\n",
    "    def construct(self):\n",
    "        for index in range(1,len(self.nums)+1):\n",
    "            self.update(index,self.nums[index-1])\n",
    "    #O(logN)\n",
    "    def update(self,index,num):\n",
    "        while index < len(self.nums)+1:\n",
    "            self.ft[index]+=num\n",
    "            index=self.next(index)\n",
    "    #O(logN)\n",
    "    def range_sum(self,start,end):\n",
    "        return self.sum(end)-self.sum(start-1)\n",
    "    #O(LogN)\n",
    "    def sum(self,index):\n",
    "        index+=1\n",
    "        sum=0\n",
    "        while index>0:\n",
    "            sum+=self.ft[index]\n",
    "            index=self.parent(index)\n",
    "        return sum\n",
    "    #O(1)\n",
    "    def next(self,index):\n",
    "        return index+(index & -index)\n",
    "    #O(1)\n",
    "    def parent(self,index):\n",
    "        return index-(index & -index)"
   ]
  },
  {
   "cell_type": "code",
   "execution_count": 56,
   "metadata": {},
   "outputs": [
    {
     "name": "stdout",
     "output_type": "stream",
     "text": [
      "3\n"
     ]
    }
   ],
   "source": [
    "if __name__==\"__main__\":\n",
    "    nums=[3,2,-1,6,5,4,-3,3,7,2,3]\n",
    "    tree=FenwickTree(nums)\n",
    "    tree.construct()\n",
    "    print(tree.range_sum(0,0))"
   ]
  },
  {
   "cell_type": "code",
   "execution_count": 58,
   "metadata": {},
   "outputs": [],
   "source": [
    "#walls and gate\n",
    "#dfs\n",
    "def wallsandgate(rooms):\n",
    "    for i in range(len(rooms)):\n",
    "        for j in range(len(rooms[0])):\n",
    "            if rooms[i][j]==0:\n",
    "                dfs(rooms,i,j,0)\n",
    "def dfs(rooms,i,j,val):\n",
    "    if i<0 or i>=len(rooms) or\\\n",
    "    j<0 or j>=len(rooms[0]) or\\\n",
    "    rooms[i][j]<val:\n",
    "            return\n",
    "    dfs(rooms,i+1,j,val+1)\n",
    "    dfs(rooms,i-1,j,val+1)\n",
    "    dfs(rooms,i,j+1,val+1)\n",
    "    dfs(rooms,i,j-1,val+1)"
   ]
  },
  {
   "cell_type": "code",
   "execution_count": 59,
   "metadata": {},
   "outputs": [],
   "source": [
    "from collections import deque\n",
    " \n",
    "def wallsandgate(rooms):\n",
    "    q=deque()\n",
    "    directions=[(0,-1),(0,1),(1,0),(-1,0)]\n",
    "    for i in range(len(rooms)):\n",
    "        for j in range(len(rooms[0])):\n",
    "            if rooms[i][j]==0:\n",
    "                q.append((i,j))\n",
    "    while q:\n",
    "        i,j=q.popleft()\n",
    "        for k in range(len(directions)):\n",
    "            x=i+directions[k][0]\n",
    "            y=j+directions[k][1]\n",
    "            if x<0 or x>len(rooms) or\\\n",
    "            y<0 or y>len(rooms[0]) or\\\n",
    "            rooms[x][y]<rooms[i][j]+1:\n",
    "                continue\n",
    "            rooms[x][y]=rooms[i][j]+1\n",
    "            q.append((x,y))"
   ]
  },
  {
   "cell_type": "code",
   "execution_count": 60,
   "metadata": {},
   "outputs": [],
   "source": [
    "import heapq\n",
    "class Solution(object):\n",
    "    def mergeKLists(self, lists):\n",
    "        \"\"\"\n",
    "        :type lists: List[ListNode]\n",
    "        :rtype: ListNode\n",
    "        \"\"\"\n",
    "        head=point=ListNode(0)\n",
    "        myheap=[]\n",
    "        for l in lists:\n",
    "            if l:\n",
    "                heapq.heappush(myheap,(l.val,l))\n",
    "        while not myheap:\n",
    "            val,node=heapq.heappop(myheap)\n",
    "            point.next=ListNode(val)\n",
    "            point=point.next\n",
    "            node=node.next\n",
    "            if node:\n",
    "                heapq.heappush(myheap,(node.val,node))\n",
    "        return head.next "
   ]
  },
  {
   "cell_type": "code",
   "execution_count": 61,
   "metadata": {},
   "outputs": [],
   "source": [
    "mysolution=Solution()"
   ]
  },
  {
   "cell_type": "code",
   "execution_count": null,
   "metadata": {},
   "outputs": [],
   "source": [
    "mysolution.mergeKLists([])"
   ]
  },
  {
   "cell_type": "code",
   "execution_count": null,
   "metadata": {},
   "outputs": [],
   "source": []
  },
  {
   "cell_type": "code",
   "execution_count": 62,
   "metadata": {},
   "outputs": [
    {
     "name": "stdout",
     "output_type": "stream",
     "text": [
      "result: []\n",
      "result: [{StarTrek.txt}]\n",
      "result: [{StarTrek.txt}, {StarWars.xml}]\n",
      "result: [{StarTrek.txt}, {StarWars.xml}, {JusticeLeague.txt}]\n",
      "result: [{StarTrek.txt}, {StarWars.xml}, {JusticeLeague.txt}, {JusticeLeague.txt}]\n",
      "result: [{StarTrek.txt}, {StarWars.xml}, {JusticeLeague.txt}, {JusticeLeague.txt}, {IronMan.txt}]\n",
      "result: [{StarTrek.txt}, {StarWars.xml}, {JusticeLeague.txt}, {JusticeLeague.txt}, {IronMan.txt}, {IronMan.txt}]\n",
      "result: [{StarTrek.txt}, {StarWars.xml}, {JusticeLeague.txt}, {JusticeLeague.txt}, {IronMan.txt}, {IronMan.txt}, {BigBangTheory.txt}]\n",
      "[{StarTrek.txt}, {StarWars.xml}, {JusticeLeague.txt}, {JusticeLeague.txt}, {IronMan.txt}, {IronMan.txt}, {BigBangTheory.txt}, {BigBangTheory.txt}]\n"
     ]
    }
   ],
   "source": [
    "\n",
    "class Filter:\n",
    "    def __init__(self):\n",
    "        pass\n",
    "\n",
    "    def apply(self, file):\n",
    "        pass\n",
    "\n",
    "class SizeFilter(Filter):\n",
    "    def __init__(self, size):\n",
    "        self.size = size\n",
    "\n",
    "    def apply(self, file):\n",
    "        return file.size > self.size\n",
    "\n",
    "class ExtensionFilter(Filter):\n",
    "    def __init__(self, ext):\n",
    "        self.extension = ext\n",
    "    def apply(self, file):\n",
    "        return file.extension == self.extension\n",
    "\n",
    "class File:\n",
    "    def __init__(self, name, size):\n",
    "        self.name = name\n",
    "        self.isDirectory = False if '.' in name else True\n",
    "        self.size = size\n",
    "        self.extension = name.split(\".\")[1] if '.' in name else \"\"\n",
    "        self.children = []\n",
    "\n",
    "    def __repr__(self):\n",
    "        return \"{\" + self.name + \"}\"\n",
    "\n",
    "class FileSystem:\n",
    "\n",
    "    def __init__(self):\n",
    "        self.filters = []\n",
    "\n",
    "    def addFilter(self, f):\n",
    "\n",
    "        if isinstance(f, Filter):\n",
    "            self.filters.append(f)\n",
    "\n",
    "    \n",
    "    # This implementation is OR implementation of filter. \n",
    "    def traverse(self, root):\n",
    "\n",
    "        result = []\n",
    "        def traverseUtil(root, result):\n",
    "            for r in root.children:\n",
    "                if r.isDirectory:\n",
    "                    traverseUtil(r, result)\n",
    "                else:\n",
    "\n",
    "                    for _f in self.filters:\n",
    "                        if _f.apply(r):\n",
    "                            print(\"result:\", result)\n",
    "                            result.append(r)\n",
    "        #return result\n",
    "        traverseUtil(root, result)\n",
    "        return result\n",
    "\n",
    "f1 = File(\"StarTrek.txt\", 5)\n",
    "f2 = File(\"StarWars.xml\", 10)\n",
    "f3 = File(\"JusticeLeague.txt\", 15)\n",
    "f4 = File(\"IronMan.txt\", 9)\n",
    "f5 = File(\"Spock.jpg\", 1)\n",
    "f6 = File(\"BigBangTheory.txt\", 50)\n",
    "f7 = File(\"MissionImpossible\", 10)\n",
    "f8 = File(\"BreakingBad\", 11)\n",
    "f9 = File(\"root\", 100)\n",
    "\n",
    "f9.children = [f7, f8]\n",
    "f7.children = [f1, f2, f3]\n",
    "f8.children = [f4, f5, f6]\n",
    "\n",
    "filter1 = SizeFilter(5)\n",
    "filter2 = ExtensionFilter(\"txt\")\n",
    "\n",
    "fs = FileSystem()\n",
    "fs.addFilter(filter1)\n",
    "fs.addFilter(filter2)\n",
    "print(fs.traverse(f9))\n"
   ]
  },
  {
   "cell_type": "code",
   "execution_count": null,
   "metadata": {},
   "outputs": [],
   "source": []
  },
  {
   "cell_type": "code",
   "execution_count": null,
   "metadata": {},
   "outputs": [],
   "source": []
  }
 ],
 "metadata": {
  "kernelspec": {
   "display_name": "Python 3",
   "language": "python",
   "name": "python3"
  },
  "language_info": {
   "codemirror_mode": {
    "name": "ipython",
    "version": 3
   },
   "file_extension": ".py",
   "mimetype": "text/x-python",
   "name": "python",
   "nbconvert_exporter": "python",
   "pygments_lexer": "ipython3",
   "version": "3.7.4"
  }
 },
 "nbformat": 4,
 "nbformat_minor": 2
}
